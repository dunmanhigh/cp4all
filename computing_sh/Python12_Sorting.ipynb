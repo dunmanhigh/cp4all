{
  "nbformat": 4,
  "nbformat_minor": 0,
  "metadata": {
    "colab": {
      "name": "Python12 - Sorting.ipynb",
      "provenance": []
    },
    "kernelspec": {
      "display_name": "Python 3",
      "language": "python",
      "name": "python3"
    },
    "language_info": {
      "codemirror_mode": {
        "name": "ipython",
        "version": 3
      },
      "file_extension": ".py",
      "mimetype": "text/x-python",
      "name": "python",
      "nbconvert_exporter": "python",
      "pygments_lexer": "ipython3",
      "version": "3.6.4"
    }
  },
  "cells": [
    {
      "cell_type": "markdown",
      "metadata": {
        "id": "vNPV_CUHkl6O"
      },
      "source": [
        "# Sorting"
      ]
    },
    {
      "cell_type": "markdown",
      "metadata": {
        "id": "LmjuZGunkw8P"
      },
      "source": [
        "## Bubble sort\n",
        "\n",
        "Time complexity = O(n<sup>2</sup>)<hr/>\n",
        "Derivation:\n",
        "<table>\n",
        "    <tr>\n",
        "        <th>Iteration</th>\n",
        "        <th>No. of comparisons</th>\n",
        "    </tr>\n",
        "    <tr>\n",
        "        <td>1</td>\n",
        "        <td>n-1</td>\n",
        "    </tr>\n",
        "    <tr>\n",
        "        <td>2</td>\n",
        "        <td>n-2</td>\n",
        "    </tr>\n",
        "    <tr>\n",
        "        <td>...</td>\n",
        "        <td>...</td>\n",
        "    </tr>\n",
        "    <tr>\n",
        "        <td>n-1</td>\n",
        "        <td>1</td>\n",
        "</table>\n",
        "\n",
        "First, we assume that we will be sorting the array (of size n) using bubble sort in an ascending order. At the first iteration of the bubble sort, we are iterating through n-1 elements, until the largest element 'bubbles' to the end of the array. Now, we can focus on the remaining n-2 elements. After the second iteration, the second largest element bubbles up to the second last position of the array. This process continues until the whole array is sorted (or no more swaps occur, in the optimised case).\n",
        "\n",
        "No. of comparisons = 1 + 2 + ... + n-1 = (n-2)*(2+(n-2)) = (n-2)(n) = n<sup>2</sup> (By Arithmetic Progression)"
      ]
    },
    {
      "cell_type": "code",
      "metadata": {
        "id": "wfQK7NevYtwK",
        "outputId": "8e215c22-05ec-4704-95cb-649c2a4d24b9",
        "colab": {
          "base_uri": "https://localhost:8080/"
        }
      },
      "source": [
        "# bubble sort (non-optimised)\n",
        "\n",
        "def bubble_sort(A):\n",
        "    for passes in range(len(A)):\n",
        "        for i in range(1, len(A)):\n",
        "            if A[i-1] > A[i]:\n",
        "            A[i-1], A[i] = A[i], A[i-1]\n",
        "    return A\n",
        "\n",
        "# main\n",
        "A = [4, 5, 2, 1, 3]\n",
        "print(bubble_sort(A))"
      ],
      "execution_count": null,
      "outputs": [
        {
          "output_type": "stream",
          "text": [
            "[1, 2, 3, 4, 5]\n"
          ],
          "name": "stdout"
        }
      ]
    },
    {
      "cell_type": "code",
      "metadata": {
        "id": "KM9SKmYpkWTW",
        "outputId": "9078d2e0-9cd9-4c86-c0ba-937280a98577",
        "colab": {
          "base_uri": "https://localhost:8080/"
        }
      },
      "source": [
        "# bubble sort (optimised)\n",
        "\n",
        "def bubble_sort(A):\n",
        "    passes = len(A) - 1 # for n items, need n-1 passes\n",
        "    swapped = True # assume not sorted\n",
        "    while swapped: # we can terminate once no more swap occurs i.e. array is sorted\n",
        "        swapped = False\n",
        "        i = 1\n",
        "        while i <= passes:\n",
        "            if A[i-1] > A[i]:\n",
        "                A[i-1], A[i] = A[i], A[i-1]\n",
        "                swapped = True\n",
        "            i = i + 1\n",
        "            passes = passes - 1\n",
        "    return A\n",
        "\n",
        "# main\n",
        "A = [4, 5, 2, 1, 3]\n",
        "print(bubble_sort(A))"
      ],
      "execution_count": null,
      "outputs": [
        {
          "output_type": "stream",
          "text": [
            "[1, 2, 3, 4, 5]\n"
          ],
          "name": "stdout"
        }
      ]
    },
    {
      "cell_type": "markdown",
      "metadata": {
        "id": "X5E7x1bskrJt"
      },
      "source": [
        "## Insertion sort\n",
        "\n",
        "Insertion sort works by maintaining 2 'separate' sublists of the original array. By definition, an array of size 1 is already sorted, so we can assume easily that ```A[0]``` is sorted. Now we are left with the elements ```A[1:n]```, where n is the size of the array. At each iteration, we pick an element ```i```, 1 <= ```i``` < n from ```A``` and put it into its appropriate position in ```A[:i+1]```. This can be thought of as having a deck of cards on two hands: the left hand holds the deck that is already sorted, and the right hand picks a card and put it into the left hand."
      ]
    },
    {
      "cell_type": "code",
      "metadata": {
        "id": "Wq82MGrjkc0p",
        "outputId": "53f955d9-1a32-48cf-b892-583c04a4f37f"
      },
      "source": [
        "# insertion sort\n",
        "\n",
        "def insertion_sort (A):\n",
        "    n = len(A) # length of the array\n",
        "    for i in range (1, n):\n",
        "        # we maintain two 'sublist', where the first element is sorted initially\n",
        "        cmp = A[i] # we want to find the position to put cmp into the sorted sublist\n",
        "        pos = i\n",
        "        for j in range (i-1, -1, -1):\n",
        "            if A[j] > cmp:\n",
        "                # shift operation\n",
        "                A[j+1] = A[j]\n",
        "                pos -= 1\n",
        "            else:\n",
        "                break\n",
        "        A[pos] = cmp\n",
        "    return A\n",
        "\n",
        "# main\n",
        "A = [4, 5, 2, 1, 3]\n",
        "print(insertion_sort(A))"
      ],
      "execution_count": null,
      "outputs": [
        {
          "output_type": "stream",
          "text": [
            "[1, 2, 3, 4, 5]\n"
          ],
          "name": "stdout"
        }
      ]
    },
    {
      "cell_type": "markdown",
      "metadata": {
        "id": "FizoLT-AkqWd"
      },
      "source": [
        "## Selection sort"
      ]
    },
    {
      "cell_type": "code",
      "metadata": {
        "id": "dkEFpNN-ken9"
      },
      "source": [
        "# selection sort\n",
        "def selection_sort(arr):        \n",
        "    for i in range(len(arr)):\n",
        "        minimum = i\n",
        "        \n",
        "        for j in range(i + 1, len(arr)):\n",
        "            # Select the smallest value\n",
        "            if arr[j] < arr[minimum]:\n",
        "                minimum = j\n",
        "\n",
        "        # Place it at the front of the \n",
        "        # sorted end of the array\n",
        "        arr[minimum], arr[i] = arr[i], arr[minimum]\n",
        "            \n",
        "    return arr"
      ],
      "execution_count": null,
      "outputs": []
    },
    {
      "cell_type": "markdown",
      "metadata": {
        "id": "BlDJ1i41lBum"
      },
      "source": [
        "## Quick sort\n",
        "\n",
        "The efficiency of the quick sort is largely dependent on the choice of the pivot value. In the best case, we can select a pivot value that optimally splits the list into two equal halves at each iteration, giving rise to a time complexity of O(nlogn), but in the worst case, we may select a pivot value that results in a highly skewed list. Imagine selecting a pivot value such that we split the list into a size of n-1, then n-2... and so on. This leads to a time complexity of O(n<sup>2</sup>).\n",
        "* Also, this method of sorting is non-stable, which means that it does not preserve the initial order of the elements."
      ]
    },
    {
      "cell_type": "code",
      "metadata": {
        "id": "O32NygMulBDG",
        "outputId": "c15d7223-eeba-46aa-de00-ce59e09446b5"
      },
      "source": [
        "# quick sort\n",
        "\n",
        "def quick_sort (A):\n",
        "    if len(A) == 0: # terminating case\n",
        "        return []\n",
        "    less = []\n",
        "    great = []\n",
        "    pivot = A[0] # select first element as pivot\n",
        "    # the aim is to put all elements lesser than pivot into the less array\n",
        "    # and all elements greater than pivot into the great array\n",
        "    for i in range (1, len(A)):\n",
        "        if A[i] < pivot:\n",
        "            less.append(A[i])\n",
        "        else:\n",
        "            great.append(A[i])\n",
        "    # recursive case\n",
        "    lesser = quick_sort(less)\n",
        "    greater = quick_sort(great)\n",
        "    return lesser + [pivot] + greater\n",
        "\n",
        "# main\n",
        "A = [4, 5, 2, 1, 3]\n",
        "print(quick_sort(A))"
      ],
      "execution_count": null,
      "outputs": [
        {
          "output_type": "stream",
          "text": [
            "[1, 2, 3, 4, 5]\n"
          ],
          "name": "stdout"
        }
      ]
    },
    {
      "cell_type": "markdown",
      "metadata": {
        "id": "c713fkXQkr5n"
      },
      "source": [
        "## Merge sort  "
      ]
    },
    {
      "cell_type": "code",
      "metadata": {
        "id": "jrVvOqDXkiSd",
        "outputId": "a7b38587-af19-43ca-a392-f04e17570bda"
      },
      "source": [
        "# merge sort\n",
        "\n",
        "def merge (A, left, right): # conquer\n",
        "    i = j = k = 0 # running variables\n",
        "    nleft = len(left) # length of left array\n",
        "    nright = len(right) # length of right array\n",
        "    while i < nleft and j < nright: # prevent array access out of bounds error\n",
        "        if left[i] < right[j]: # pick the smaller of the two as we want to sort the array into ascending order\n",
        "            A[k] = left[i]\n",
        "            i += 1\n",
        "        else:\n",
        "            A[k] = right[j]\n",
        "            j += 1\n",
        "        k += 1\n",
        "    # handle leftovers\n",
        "    while i < nleft:\n",
        "        A[k] = left[i]\n",
        "        i += 1\n",
        "        k += 1\n",
        "    while j < nright:\n",
        "        A[k] = right[j]\n",
        "        j += 1\n",
        "        k += 1\n",
        "\n",
        "def merge_sort (A): # divide\n",
        "    if len(A) > 1: # an array of size 1 is already sorted\n",
        "        mid = len(A) // 2\n",
        "        left = A[:mid]\n",
        "        right = A[mid:]\n",
        "        merge_sort(left)\n",
        "        merge_sort(right)\n",
        "        merge(A, left, right)\n",
        "    return A\n",
        "\n",
        "# main\n",
        "A = [4, 5, 2, 1, 3]\n",
        "print(merge_sort(A))"
      ],
      "execution_count": null,
      "outputs": [
        {
          "output_type": "stream",
          "text": [
            "[1, 2, 3, 4, 5]\n"
          ],
          "name": "stdout"
        }
      ]
    }
  ]
}