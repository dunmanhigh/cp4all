{
  "nbformat": 4,
  "nbformat_minor": 0,
  "metadata": {
    "colab": {
      "name": "Python12 - Sorting.ipynb",
      "provenance": []
    },
    "kernelspec": {
      "name": "python3",
      "display_name": "Python 3"
    }
  },
  "cells": [
    {
      "cell_type": "markdown",
      "metadata": {
        "id": "vNPV_CUHkl6O"
      },
      "source": [
        "# Sorting"
      ]
    },
    {
      "cell_type": "markdown",
      "metadata": {
        "id": "LmjuZGunkw8P"
      },
      "source": [
        "## Bubble sort"
      ]
    },
    {
      "cell_type": "code",
      "metadata": {
        "id": "wfQK7NevYtwK",
        "outputId": "8e215c22-05ec-4704-95cb-649c2a4d24b9",
        "colab": {
          "base_uri": "https://localhost:8080/"
        }
      },
      "source": [
        "# bubble sort (non-optimised)\n",
        "\n",
        "def bubble_sort(A):\n",
        "  for passes in range(len(A)):\n",
        "    for i in range(1, len(A)):\n",
        "      if A[i-1] > A[i]:\n",
        "        A[i-1], A[i] = A[i], A[i-1]\n",
        "  return A\n",
        "\n",
        "# main\n",
        "A = [4, 5, 2, 1, 3]\n",
        "print(bubble_sort(A))"
      ],
      "execution_count": 5,
      "outputs": [
        {
          "output_type": "stream",
          "text": [
            "[1, 2, 3, 4, 5]\n"
          ],
          "name": "stdout"
        }
      ]
    },
    {
      "cell_type": "code",
      "metadata": {
        "id": "KM9SKmYpkWTW",
        "outputId": "9078d2e0-9cd9-4c86-c0ba-937280a98577",
        "colab": {
          "base_uri": "https://localhost:8080/"
        }
      },
      "source": [
        "# bubble sort (optimised)\n",
        "\n",
        "def bubble_sort(A):\n",
        "  passes = len(A) - 1 # for n items, need n-1 passes\n",
        "  swapped = True # assume not sorted\n",
        "  while swapped:\n",
        "    swapped = False\n",
        "    i = 1\n",
        "    while i <= passes:\n",
        "      if A[i-1] > A[i]:\n",
        "        A[i-1], A[i] = A[i], A[i-1]\n",
        "        swapped = True\n",
        "      i = i + 1\n",
        "    passes = passes - 1\n",
        "  return A\n",
        "\n",
        "# main\n",
        "A = [4, 5, 2, 1, 3]\n",
        "print(bubble_sort(A))"
      ],
      "execution_count": 2,
      "outputs": [
        {
          "output_type": "stream",
          "text": [
            "[1, 2, 3, 4, 5]\n"
          ],
          "name": "stdout"
        }
      ]
    },
    {
      "cell_type": "markdown",
      "metadata": {
        "id": "X5E7x1bskrJt"
      },
      "source": [
        "## Insertion sort"
      ]
    },
    {
      "cell_type": "code",
      "metadata": {
        "id": "Wq82MGrjkc0p"
      },
      "source": [
        "# insertion sort"
      ],
      "execution_count": null,
      "outputs": []
    },
    {
      "cell_type": "markdown",
      "metadata": {
        "id": "FizoLT-AkqWd"
      },
      "source": [
        "## Selection sort"
      ]
    },
    {
      "cell_type": "code",
      "metadata": {
        "id": "dkEFpNN-ken9"
      },
      "source": [
        "# selection sort"
      ],
      "execution_count": null,
      "outputs": []
    },
    {
      "cell_type": "markdown",
      "metadata": {
        "id": "BlDJ1i41lBum"
      },
      "source": [
        "## Quick sort"
      ]
    },
    {
      "cell_type": "code",
      "metadata": {
        "id": "O32NygMulBDG"
      },
      "source": [
        "# quick sort"
      ],
      "execution_count": null,
      "outputs": []
    },
    {
      "cell_type": "markdown",
      "metadata": {
        "id": "c713fkXQkr5n"
      },
      "source": [
        "## Merge sort  "
      ]
    },
    {
      "cell_type": "code",
      "metadata": {
        "id": "jrVvOqDXkiSd"
      },
      "source": [
        "# merge sort"
      ],
      "execution_count": null,
      "outputs": []
    }
  ]
}
