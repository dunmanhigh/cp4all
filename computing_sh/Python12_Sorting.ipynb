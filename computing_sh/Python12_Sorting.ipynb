{
  "nbformat": 4,
  "nbformat_minor": 0,
  "metadata": {
    "colab": {
      "name": "Python12_Sorting.ipynb",
      "provenance": []
    },
    "kernelspec": {
      "name": "python3",
      "display_name": "Python 3"
    }
  },
  "cells": [
    {
      "cell_type": "markdown",
      "metadata": {
        "id": "vNPV_CUHkl6O"
      },
      "source": [
        "# Sorting"
      ]
    },
    {
      "cell_type": "markdown",
      "metadata": {
        "id": "LmjuZGunkw8P"
      },
      "source": [
        "## Bubble sort"
      ]
    },
    {
      "cell_type": "code",
      "metadata": {
        "id": "wfQK7NevYtwK",
        "outputId": "8e215c22-05ec-4704-95cb-649c2a4d24b9",
        "colab": {
          "base_uri": "https://localhost:8080/"
        }
      },
      "source": [
        "# bubble sort (non-optimised)\n",
        "\n",
        "def bubble_sort(A):\n",
        "  for passes in range(len(A)):\n",
        "    for i in range(1, len(A)):\n",
        "      if A[i-1] > A[i]:\n",
        "        A[i-1], A[i] = A[i], A[i-1]\n",
        "  return A\n",
        "\n",
        "# main\n",
        "A = [4, 5, 2, 1, 3]\n",
        "print(bubble_sort(A))"
      ],
      "execution_count": null,
      "outputs": [
        {
          "output_type": "stream",
          "text": [
            "[1, 2, 3, 4, 5]\n"
          ],
          "name": "stdout"
        }
      ]
    },
    {
      "cell_type": "code",
      "metadata": {
        "id": "KM9SKmYpkWTW",
        "outputId": "9078d2e0-9cd9-4c86-c0ba-937280a98577",
        "colab": {
          "base_uri": "https://localhost:8080/"
        }
      },
      "source": [
        "# bubble sort (optimised)\n",
        "\n",
        "def bubble_sort(A):\n",
        "  passes = len(A) - 1 # for n items, need n-1 passes\n",
        "  swapped = True # assume not sorted\n",
        "  while swapped:\n",
        "    swapped = False\n",
        "    i = 1\n",
        "    while i <= passes:\n",
        "      if A[i-1] > A[i]:\n",
        "        A[i-1], A[i] = A[i], A[i-1]\n",
        "        swapped = True\n",
        "      i = i + 1\n",
        "    passes = passes - 1\n",
        "  return A\n",
        "\n",
        "# main\n",
        "A = [4, 5, 2, 1, 3]\n",
        "print(bubble_sort(A))"
      ],
      "execution_count": null,
      "outputs": [
        {
          "output_type": "stream",
          "text": [
            "[1, 2, 3, 4, 5]\n"
          ],
          "name": "stdout"
        }
      ]
    },
    {
      "cell_type": "markdown",
      "metadata": {
        "id": "X5E7x1bskrJt"
      },
      "source": [
        "## Insertion sort"
      ]
    },
    {
      "cell_type": "code",
      "metadata": {
        "id": "Wq82MGrjkc0p",
        "outputId": "08162e22-b674-4441-b56b-a99f9fd2d6fb",
        "colab": {
          "base_uri": "https://localhost:8080/"
        }
      },
      "source": [
        "# insertion sort\n",
        "def insertionSort(A):\n",
        "  for i in range(1, len(A)):\n",
        "    key = A[i]\n",
        "    j = i - 1\n",
        "    while j >= 0 and key < A[j]:\n",
        "      A[j+1] = A[j]\n",
        "      j -= 1\n",
        "    A[j + 1] = key\n",
        "  return A\n",
        "\n",
        "A = [12, 11, 13, 5, 6]\n",
        "print(insertionSort(A))"
      ],
      "execution_count": 1,
      "outputs": [
        {
          "output_type": "stream",
          "text": [
            "[5, 6, 11, 12, 13]\n"
          ],
          "name": "stdout"
        }
      ]
    },
    {
      "cell_type": "markdown",
      "metadata": {
        "id": "FizoLT-AkqWd"
      },
      "source": [
        "## Selection sort"
      ]
    },
    {
      "cell_type": "code",
      "metadata": {
        "id": "dkEFpNN-ken9"
      },
      "source": [
        "# selection sort"
      ],
      "execution_count": null,
      "outputs": []
    },
    {
      "cell_type": "markdown",
      "metadata": {
        "id": "BlDJ1i41lBum"
      },
      "source": [
        "## Quick sort"
      ]
    },
    {
      "cell_type": "code",
      "metadata": {
        "id": "O32NygMulBDG",
        "outputId": "373c469c-77b8-436d-ad32-893c5934011d",
        "colab": {
          "base_uri": "https://localhost:8080/"
        }
      },
      "source": [
        "# quick sort\n",
        "def quicksort(A): # recursive\n",
        "  if A == []:\n",
        "    return []\n",
        "  else:\n",
        "    pivot = A[0]\n",
        "\n",
        "    less = []\n",
        "    great = []\n",
        "    \n",
        "    for item in A[1:]:\n",
        "      if item < pivot:\n",
        "        less.append(item)\n",
        "      else:\n",
        "        great.append(item)\n",
        "    \n",
        "    less = quicksort(less)\n",
        "    great = quicksort(great)\n",
        "    return less + [pivot] + great\n",
        "\n",
        "# main\n",
        "#A = [3, 8, 4, 6, 2]\n",
        "#print(quicksort(A))\n",
        "print(quicksort([10, 23, 1, 17, 93, 10]))"
      ],
      "execution_count": 2,
      "outputs": [
        {
          "output_type": "stream",
          "text": [
            "[1, 10, 10, 17, 23, 93]\n"
          ],
          "name": "stdout"
        }
      ]
    },
    {
      "cell_type": "markdown",
      "metadata": {
        "id": "c713fkXQkr5n"
      },
      "source": [
        "## Merge sort  "
      ]
    },
    {
      "cell_type": "code",
      "metadata": {
        "id": "jrVvOqDXkiSd",
        "outputId": "b4a6d4f0-5817-43d5-e582-47c5423005e5",
        "colab": {
          "base_uri": "https://localhost:8080/"
        }
      },
      "source": [
        "# merge sort\n",
        "def mergeSort(A):\n",
        "  #print(\"splitting\", A)\n",
        "  if len(A) > 1:\n",
        "    mid = len(A) // 2\n",
        "    left = A[:mid]\n",
        "    right = A[mid:]\n",
        "\n",
        "    mergeSort(left)\n",
        "    mergeSort(right)\n",
        "\n",
        "    i = 0 \n",
        "    j = 0\n",
        "    k = 0\n",
        "\n",
        "    while i < len(left) and j < len(right):\n",
        "      if left[i] <= right[j]:\n",
        "        A[k] = left[i]\n",
        "        i = i + 1\n",
        "      else:\n",
        "        A[k] = right[j]\n",
        "        j = j + 1\n",
        "      k = k + 1\n",
        "    \n",
        "    while i < len(left):\n",
        "      A[k] = left[i]\n",
        "      i = i + 1\n",
        "      k = k + 1\n",
        "\n",
        "    while j < len(right):\n",
        "      A[k] = right[j]\n",
        "      j = j + 1\n",
        "      k = k + 1\n",
        "\n",
        "  #print(\"Merging\", A)\n",
        "\n",
        "# main\n",
        "A = [54, 26, 93, 17, 77, 31, 44, 55, 20]\n",
        "mergeSort(A)\n",
        "print(A)"
      ],
      "execution_count": 3,
      "outputs": [
        {
          "output_type": "stream",
          "text": [
            "[17, 20, 26, 31, 44, 54, 55, 77, 93]\n"
          ],
          "name": "stdout"
        }
      ]
    },
    {
      "cell_type": "code",
      "metadata": {
        "id": "LeL49YycBFZD"
      },
      "source": [
        ""
      ],
      "execution_count": null,
      "outputs": []
    }
  ]
}
