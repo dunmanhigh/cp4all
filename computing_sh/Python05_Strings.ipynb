{
 "cells": [
  {
   "cell_type": "markdown",
   "metadata": {
    "id": "_sIeTutwNGJK"
   },
   "source": [
    "# **Strings**\n",
    "\n",
    "- A data type\n",
    "- Immutable - cannot be directly changed after creation\n",
    "- Iterable and hence for loops can be used"
   ]
  },
  {
   "cell_type": "code",
   "execution_count": null,
   "metadata": {
    "colab": {
     "base_uri": "https://localhost:8080/",
     "height": 34
    },
    "id": "c0Laao7eMfF0",
    "outputId": "310b8edd-547a-40fe-e671-00afba7cbafa"
   },
   "outputs": [
    {
     "data": {
      "text/plain": [
       "'\\nThis is a paragraph\\nof text\\n'"
      ]
     },
     "execution_count": 5,
     "metadata": {
      "tags": []
     },
     "output_type": "execute_result"
    }
   ],
   "source": [
    "# 3 ways to declare strings\n",
    "s1 = 'Tom' # single quote\n",
    "s2 = \"Tom's cat\" # double quote\n",
    "# triple quote\n",
    "'''\n",
    "This is a paragraph\n",
    "of text\n",
    "'''"
   ]
  },
  {
   "cell_type": "markdown",
   "metadata": {},
   "source": [
    "### A quick overview of string operations:  \n",
    "\n",
    "| Operation | Parameter | Return |\n",
    "| :--------- | :-------- | :------ |\n",
    "| len(str)  | String | The number of items in an object. When the object is a string, len() returns the number of characters in the string. |\n",
    "| ord(str) | String of length one | Integer that represents the letter's Unicode. |\n",
    "| chr(65) | Integer with a range of 0 to 1,114,111 | A string representing a character whose unicode code point value is num. |\n",
    "| str(num) | Float or Integer | A string - it converts the parameter into a string |\n",
    "| str.isdigit() |  | Returns true if all characters in the string are digits. If there is at least one character, it returns false. |\n",
    "| str.isalpha() |  | Returns True if all characters in the string are alphabets. Otherwise, It returns “False”.\n",
    "| str.isalnum() |  | Returns True if all characters in the string are alphanumeric (either alphabets or numbers). Otherwise, it returns False. |\n",
    "\n",
    "*Note that this list is non-exhaustive*\n",
    "\n"
   ]
  },
  {
   "cell_type": "code",
   "execution_count": null,
   "metadata": {
    "colab": {
     "base_uri": "https://localhost:8080/",
     "height": 34
    },
    "id": "EcA9hvUeaEHb",
    "outputId": "547a9d73-cb26-44a2-fdb0-9749cf8a6526"
   },
   "outputs": [
    {
     "data": {
      "text/plain": [
       "9"
      ]
     },
     "execution_count": 7,
     "metadata": {
      "tags": []
     },
     "output_type": "execute_result"
    }
   ],
   "source": [
    "# string operation - length\n",
    "len(s2)"
   ]
  },
  {
   "cell_type": "code",
   "execution_count": null,
   "metadata": {
    "colab": {
     "base_uri": "https://localhost:8080/",
     "height": 34
    },
    "id": "iTVUAG1xbh6v",
    "outputId": "bdaf9623-9c16-4a9a-b47d-295cc279856c"
   },
   "outputs": [
    {
     "data": {
      "text/plain": [
       "65"
      ]
     },
     "execution_count": 9,
     "metadata": {
      "tags": []
     },
     "output_type": "execute_result"
    }
   ],
   "source": [
    "# string operation - ord\n",
    "ord('A')"
   ]
  },
  {
   "cell_type": "code",
   "execution_count": null,
   "metadata": {
    "colab": {
     "base_uri": "https://localhost:8080/",
     "height": 34
    },
    "id": "lAiFKixsbrGe",
    "outputId": "5dc81560-6cf5-43e5-f4ac-a2a65cce3f23"
   },
   "outputs": [
    {
     "data": {
      "text/plain": [
       "'A'"
      ]
     },
     "execution_count": 10,
     "metadata": {
      "tags": []
     },
     "output_type": "execute_result"
    }
   ],
   "source": [
    "# string operation - chr\n",
    "chr(65)"
   ]
  },
  {
   "cell_type": "code",
   "execution_count": null,
   "metadata": {
    "colab": {
     "base_uri": "https://localhost:8080/",
     "height": 34
    },
    "id": "NNwtPfDobws3",
    "outputId": "5adb9030-b2ff-438c-a20d-de279cd55705"
   },
   "outputs": [
    {
     "data": {
      "text/plain": [
       "'123'"
      ]
     },
     "execution_count": 11,
     "metadata": {
      "tags": []
     },
     "output_type": "execute_result"
    }
   ],
   "source": [
    "# string operation - str\n",
    "str(123)"
   ]
  },
  {
   "cell_type": "code",
   "execution_count": 1,
   "metadata": {},
   "outputs": [
    {
     "data": {
      "text/plain": [
       "str"
      ]
     },
     "execution_count": 1,
     "metadata": {},
     "output_type": "execute_result"
    }
   ],
   "source": [
    "type(str(123))"
   ]
  },
  {
   "cell_type": "code",
   "execution_count": null,
   "metadata": {
    "colab": {
     "base_uri": "https://localhost:8080/",
     "height": 34
    },
    "id": "OeQ7k5ZHZhZv",
    "outputId": "bb911534-0dc4-4ece-df51-4ac8bd294f9d"
   },
   "outputs": [
    {
     "data": {
      "text/plain": [
       "'n'"
      ]
     },
     "execution_count": 18,
     "metadata": {
      "tags": []
     },
     "output_type": "execute_result"
    }
   ],
   "source": [
    "# accessing individual characters through indexing\n",
    "s1 = 'Spiderman'\n",
    "s1[0] # first\n",
    "s1[1] # second\n",
    "s1[len(s1)-1] # last\n",
    "s1[-1] # last\n",
    "\n"
   ]
  },
  {
   "cell_type": "code",
   "execution_count": null,
   "metadata": {
    "colab": {
     "base_uri": "https://localhost:8080/",
     "height": 181
    },
    "id": "jtSOADYEZ4qZ",
    "outputId": "762379c9-dcdc-468d-8c77-00fb10e1c12d"
   },
   "outputs": [
    {
     "ename": "TypeError",
     "evalue": "ignored",
     "output_type": "error",
     "traceback": [
      "\u001b[0;31m---------------------------------------------------------------------------\u001b[0m",
      "\u001b[0;31mTypeError\u001b[0m                                 Traceback (most recent call last)",
      "\u001b[0;32m<ipython-input-19-3c230cd78202>\u001b[0m in \u001b[0;36m<module>\u001b[0;34m()\u001b[0m\n\u001b[1;32m      1\u001b[0m \u001b[0ms1\u001b[0m \u001b[0;34m=\u001b[0m \u001b[0;34m'Tom'\u001b[0m\u001b[0;34m\u001b[0m\u001b[0;34m\u001b[0m\u001b[0m\n\u001b[0;32m----> 2\u001b[0;31m \u001b[0ms1\u001b[0m\u001b[0;34m[\u001b[0m\u001b[0;36m0\u001b[0m\u001b[0;34m]\u001b[0m \u001b[0;34m=\u001b[0m \u001b[0;34m'M'\u001b[0m\u001b[0;34m\u001b[0m\u001b[0;34m\u001b[0m\u001b[0m\n\u001b[0m",
      "\u001b[0;31mTypeError\u001b[0m: 'str' object does not support item assignment"
     ]
    }
   ],
   "source": [
    "# strings are immutable!\n",
    "s1 = 'Tom'\n",
    "s1[0] = 'M'"
   ]
  },
  {
   "cell_type": "code",
   "execution_count": null,
   "metadata": {
    "colab": {
     "base_uri": "https://localhost:8080/",
     "height": 68
    },
    "id": "Aq2iiGW0azMO",
    "outputId": "86ab63eb-4b4d-47ca-f176-1e26e43fcc77"
   },
   "outputs": [
    {
     "name": "stdout",
     "output_type": "stream",
     "text": [
      "T\n",
      "o\n",
      "m\n"
     ]
    }
   ],
   "source": [
    "# for in\n",
    "# for i in range(n):\n",
    "for char in s1:\n",
    "  print(char) "
   ]
  },
  {
   "cell_type": "code",
   "execution_count": null,
   "metadata": {
    "colab": {
     "base_uri": "https://localhost:8080/",
     "height": 34
    },
    "id": "epoj8FTtaf6z",
    "outputId": "32291bf9-6a30-4dfe-d941-34b6a940ad9b"
   },
   "outputs": [
    {
     "data": {
      "text/plain": [
       "'man'"
      ]
     },
     "execution_count": 23,
     "metadata": {
      "tags": []
     },
     "output_type": "execute_result"
    }
   ],
   "source": [
    "# string operation - slicing / substring\n",
    "s = \"Spiderman\"\n",
    "s[0:6]\n",
    "s[:6]\n",
    "s[6:len(s)]\n",
    "s[6:]"
   ]
  },
  {
   "cell_type": "code",
   "execution_count": null,
   "metadata": {
    "colab": {
     "base_uri": "https://localhost:8080/",
     "height": 34
    },
    "id": "iUrkzp9wZqiy",
    "outputId": "8eaa3597-a207-4f42-d671-fef4a3e9c697"
   },
   "outputs": [
    {
     "data": {
      "text/plain": [
       "'Batman'"
      ]
     },
     "execution_count": 24,
     "metadata": {
      "tags": []
     },
     "output_type": "execute_result"
    }
   ],
   "source": [
    "# string operation - concatenate\n",
    "s1 = \"Bat\"\n",
    "s2 = \"man\"\n",
    "s1 + s2"
   ]
  },
  {
   "cell_type": "code",
   "execution_count": null,
   "metadata": {
    "colab": {
     "base_uri": "https://localhost:8080/",
     "height": 54
    },
    "id": "DJzOiEtYZuOB",
    "outputId": "fc087e50-2069-4923-898f-a85032555fae"
   },
   "outputs": [
    {
     "data": {
      "text/plain": [
       "'HAHAHAHAHAHAHAHAHAHAHAHAHAHAHAHAHAHAHAHAHAHAHAHAHAHAHAHAHAHAHAHAHAHAHAHAHAHAHAHAHAHAHAHAHAHAHAHAHAHAHAHAHAHAHAHAHAHAHAHAHAHAHAHAHAHAHAHAHAHAHAHAHAHAHAHAHAHAHAHAHAHAHAHAHAHAHAHAHAHAHAHAHAHAHAHAHAHAHAHA'"
      ]
     },
     "execution_count": 28,
     "metadata": {
      "tags": []
     },
     "output_type": "execute_result"
    }
   ],
   "source": [
    "# string operation - duplicate\n",
    "s = 'HA'\n",
    "s * 100"
   ]
  },
  {
   "cell_type": "code",
   "execution_count": null,
   "metadata": {
    "colab": {
     "base_uri": "https://localhost:8080/",
     "height": 34
    },
    "id": "8Nbhi3FgaHCK",
    "outputId": "c407e24e-8a0f-4904-fc51-871dee703cfc"
   },
   "outputs": [
    {
     "data": {
      "text/plain": [
       "'tom'"
      ]
     },
     "execution_count": 30,
     "metadata": {
      "tags": []
     },
     "output_type": "execute_result"
    }
   ],
   "source": [
    "# string operation - case\n",
    "s = 'Tom'\n",
    "s.lower() # lower"
   ]
  },
  {
   "cell_type": "code",
   "execution_count": 2,
   "metadata": {},
   "outputs": [
    {
     "data": {
      "text/plain": [
       "'TOM'"
      ]
     },
     "execution_count": 2,
     "metadata": {},
     "output_type": "execute_result"
    }
   ],
   "source": [
    "# string operation - case\n",
    "s = 'Tom'\n",
    "s.upper() # upper"
   ]
  },
  {
   "cell_type": "code",
   "execution_count": null,
   "metadata": {
    "colab": {
     "base_uri": "https://localhost:8080/",
     "height": 34
    },
    "id": "uSSHC-4saPIb",
    "outputId": "82e8c063-f5f2-4618-99b4-6278a9a47b68"
   },
   "outputs": [
    {
     "data": {
      "text/plain": [
       "True"
      ]
     },
     "execution_count": 32,
     "metadata": {
      "tags": []
     },
     "output_type": "execute_result"
    }
   ],
   "source": [
    "# string operation - check numeric\n",
    "s = '12345'\n",
    "s.isdigit()"
   ]
  },
  {
   "cell_type": "code",
   "execution_count": null,
   "metadata": {
    "colab": {
     "base_uri": "https://localhost:8080/",
     "height": 34
    },
    "id": "eXEFpvDetKzH",
    "outputId": "ccd16c21-c69e-41b3-9e35-5a1c96c5e729"
   },
   "outputs": [
    {
     "data": {
      "text/plain": [
       "True"
      ]
     },
     "execution_count": 33,
     "metadata": {
      "tags": []
     },
     "output_type": "execute_result"
    }
   ],
   "source": [
    "# string operation - check alphabetic\n",
    "s = 'Tom'\n",
    "s.isalpha()"
   ]
  },
  {
   "cell_type": "code",
   "execution_count": null,
   "metadata": {
    "colab": {
     "base_uri": "https://localhost:8080/",
     "height": 34
    },
    "id": "lxGeAHKKaS0a",
    "outputId": "58e7265e-59aa-4f14-99ad-ba034d8a27f2"
   },
   "outputs": [
    {
     "data": {
      "text/plain": [
       "True"
      ]
     },
     "execution_count": 34,
     "metadata": {
      "tags": []
     },
     "output_type": "execute_result"
    }
   ],
   "source": [
    "# string operation - check alphanumeric\n",
    "s = 'Tom123'\n",
    "s.isalnum()"
   ]
  },
  {
   "cell_type": "code",
   "execution_count": null,
   "metadata": {
    "colab": {
     "base_uri": "https://localhost:8080/",
     "height": 34
    },
    "id": "seL7bUFctZxH",
    "outputId": "723e8a77-cd69-4d56-fd29-5ab46f43f5e0"
   },
   "outputs": [
    {
     "name": "stdout",
     "output_type": "stream",
     "text": [
      "Born in 2003\n"
     ]
    }
   ],
   "source": [
    "# write program to validate nric\n",
    "# T0312345A\n",
    "nric = 'T0312345A'\n",
    "valid_nric = False\n",
    "if nric[0] == 'T':\n",
    "  valid_nric = True\n",
    "if nric[1:-1].isdigit():\n",
    "  valid_nric = True\n",
    "if nric[-1].isalpha():\n",
    "  valid_nric = True\n",
    "if nric[1:3] == '03':\n",
    "  print(\"Born in 2003\")"
   ]
  },
  {
   "cell_type": "code",
   "execution_count": null,
   "metadata": {
    "colab": {
     "base_uri": "https://localhost:8080/",
     "height": 34
    },
    "id": "mUMhd32EbLWp",
    "outputId": "2e9fc9fa-28f2-43e2-d8b0-523903ff2a18"
   },
   "outputs": [
    {
     "data": {
      "text/plain": [
       "'namtaB'"
      ]
     },
     "execution_count": 39,
     "metadata": {
      "tags": []
     },
     "output_type": "execute_result"
    }
   ],
   "source": [
    "# string operation - reverse\n",
    "s = 'Batman'\n",
    "s[::-1]"
   ]
  },
  {
   "cell_type": "code",
   "execution_count": null,
   "metadata": {
    "colab": {
     "base_uri": "https://localhost:8080/",
     "height": 68
    },
    "id": "mWEuim0YcHIy",
    "outputId": "2331f07b-3028-4f5f-f094-55137ed51400"
   },
   "outputs": [
    {
     "name": "stdout",
     "output_type": "stream",
     "text": [
      "3.14 12345\n",
      "3.14 12345\n",
      "3.14 12345\n"
     ]
    }
   ],
   "source": [
    "# string formatting\n",
    "# format method\n",
    "from math import pi\n",
    "num = 12345\n",
    "print(\"{:.2f} {}\".format(pi, num))\n",
    "print(\"{0:.2f} {1}\".format(pi, num))\n",
    "\n",
    "# f-string (new from Python 3.6)\n",
    "print(f\"{pi:.2f} {num}\")"
   ]
  },
  {
   "attachments": {},
   "cell_type": "markdown",
   "metadata": {},
   "source": [
    "## **Exercise: Fuzzy Wuzzy** \n",
    "Fuzzy Wuzzy is a cut little A.I. that loves words that contains repeated consecutive letters just like its name.\n",
    "Write a code for Fuzzy Wuzzy.\n",
    "\n",
    ">**Sample 1:** \n",
    "The word ‘lollipop’ contains consecutives ‘l’s.  \n",
    "Give Fuzzy Wuzzy a word: lollipop  \n",
    "Fuzzy Wuzzy is happy!!\n",
    "\n",
    ">**Sample 2:** \n",
    "The word ‘chocolate’ does not contain any consecutives letters.  \n",
    "Give Fuzzy Wuzzy a word: chocolate  \n",
    "Fuzzy Wuzzy is sad!  \n",
    "\n",
    ">**Sample 3:**  \n",
    "The word ‘Eel’ contains consecutive letters, although they are in uppercase & lowercase.  \n",
    "Give Fuzzy Wuzzy a word: Eel  \n",
    "Fuzzy Wuzzy is happy!!  "
   ]
  },
  {
   "cell_type": "code",
   "execution_count": 14,
   "metadata": {
    "id": "bVMwgFDMytfX"
   },
   "outputs": [
    {
     "name": "stdout",
     "output_type": "stream",
     "text": [
      "Give Fuzzy Wuzzy a word: apple\n",
      "Fuzzy Wuzzy is happy!\n"
     ]
    }
   ],
   "source": [
    "word = input('Give Fuzzy Wuzzy a word: ').lower()\n",
    "mood = 'sad'\n",
    "\n",
    "for index in range (len(word)-1):\n",
    "    if word[index] == word[index+1]:\n",
    "        mood = 'happy'\n",
    "        break\n",
    "\n",
    "print('Fuzzy Wuzzy is {}!'.format(mood))"
   ]
  },
  {
   "attachments": {},
   "cell_type": "markdown",
   "metadata": {},
   "source": [
    "## **Exercise: Reverso** \n",
    "Write a code that reverses the arrangement of 2 consecutive letters.\n",
    "\n",
    ">**Sample:**  \n",
    "Enter a sentence: secret power!  \n",
    "esrcte opewr!  \n",
    "*It can be assumed that there is no punctuations*"
   ]
  },
  {
   "cell_type": "code",
   "execution_count": 13,
   "metadata": {},
   "outputs": [
    {
     "name": "stdout",
     "output_type": "stream",
     "text": [
      "esrcte opew!\n"
     ]
    }
   ],
   "source": [
    "sentence = 'secret power!'\n",
    "# punctuation collection\n",
    "punctuation = sentence[-1]\n",
    "# punctuation removal\n",
    "sentence = sentence[:-1]\n",
    "words = sentence.split(' ') #returns ['secret', 'power']\n",
    "result = ''\n",
    "\n",
    "for word in words:\n",
    "    # swaps the first and the next letter\n",
    "    for i in range (0, len(word)-1, 2):\n",
    "        if sentence[i] != ' ' and word[i+1] != ' ':\n",
    "            result = result + word[i+1] + word[i]\n",
    "        \n",
    "    # checks if its an odd-numbered word\n",
    "    if len(word) % 1 == 1: \n",
    "        result = result + word[-1]\n",
    "        \n",
    "    # adds a space at the end of the word\n",
    "    result += ' '\n",
    "    \n",
    "# removes the extra space added\n",
    "result = result[:-1]\n",
    "# adds the punctuation back\n",
    "result = result + punctuation\n",
    "\n",
    "print(result)"
   ]
  },
  {
   "cell_type": "code",
   "execution_count": null,
   "metadata": {},
   "outputs": [],
   "source": []
  }
 ],
 "metadata": {
  "colab": {
   "name": "Python05 - Strings.ipynb",
   "provenance": []
  },
  "kernelspec": {
   "display_name": "Python 3",
   "language": "python",
   "name": "python3"
  },
  "language_info": {
   "codemirror_mode": {
    "name": "ipython",
    "version": 3
   },
   "file_extension": ".py",
   "mimetype": "text/x-python",
   "name": "python",
   "nbconvert_exporter": "python",
   "pygments_lexer": "ipython3",
   "version": "3.8.2"
  }
 },
 "nbformat": 4,
 "nbformat_minor": 1
}
