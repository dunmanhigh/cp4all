{
  "nbformat": 4,
  "nbformat_minor": 0,
  "metadata": {
    "colab": {
      "name": "Python02_Conditionals.ipynb",
      "provenance": [],
      "collapsed_sections": []
    },
    "kernelspec": {
      "name": "python3",
      "display_name": "Python 3"
    }
  },
  "cells": [
    {
      "cell_type": "markdown",
      "metadata": {
        "id": "kfWNsP-8vdZW"
      },
      "source": [
        "# **Conditionals**\n",
        "\n",
        "\n",
        "*   if\n",
        "*   if else\n",
        "*   if elif else\n",
        "\n",
        "\n",
        "\n"
      ]
    },
    {
      "cell_type": "code",
      "metadata": {
        "id": "IMxPlZyiwO8O",
        "outputId": "0f8cf41e-e62d-4e1b-af26-5e0e3b95ca17",
        "colab": {
          "base_uri": "https://localhost:8080/",
          "height": 34
        }
      },
      "source": [
        "# Example if\n",
        "a = 3\n",
        "b = 2\n",
        "if a > b: # condition\n",
        "  print(\"a larger\") # action"
      ],
      "execution_count": null,
      "outputs": [
        {
          "output_type": "stream",
          "text": [
            "a larger\n"
          ],
          "name": "stdout"
        }
      ]
    },
    {
      "cell_type": "code",
      "metadata": {
        "id": "lplB80dhwaA0",
        "outputId": "e3243165-87ab-477b-c20a-8eadb0ddfd72",
        "colab": {
          "base_uri": "https://localhost:8080/",
          "height": 34
        }
      },
      "source": [
        "# Example if else\n",
        "a = 2\n",
        "b = 3\n",
        "if a > b:\n",
        "  print(\"a larger\")\n",
        "else: # a <= b\n",
        "  print(\"a smaller or equal\")"
      ],
      "execution_count": null,
      "outputs": [
        {
          "output_type": "stream",
          "text": [
            "a smaller or equal\n"
          ],
          "name": "stdout"
        }
      ]
    },
    {
      "cell_type": "code",
      "metadata": {
        "id": "pVDFy8MOwsMx",
        "outputId": "19d5a7e4-00a4-4223-c6ef-823f2a4ce179",
        "colab": {
          "base_uri": "https://localhost:8080/",
          "height": 34
        }
      },
      "source": [
        "# Example if elif else (nested if else)\n",
        "a = 5\n",
        "b = 5\n",
        "if a > b:\n",
        "  print(\"a larger\")\n",
        "elif a < b: # elif is shorthand for else if\n",
        "  print(\"a smaller\")  \n",
        "else: # same\n",
        "  print(\"equal\")  "
      ],
      "execution_count": null,
      "outputs": [
        {
          "output_type": "stream",
          "text": [
            "equal\n"
          ],
          "name": "stdout"
        }
      ]
    },
    {
      "cell_type": "markdown",
      "metadata": {
        "id": "38J7OJPBx014"
      },
      "source": [
        "**Example**\n",
        "Write a program to determine the corresponding A-level grade given an input score.\n",
        "\n",
        "https://en.wikipedia.org/wiki/Academic_grading_in_Singapore#Junior_college_level_(GCE_A_and_AO_levels)"
      ]
    },
    {
      "cell_type": "code",
      "metadata": {
        "id": "qyyj78l_xud_",
        "outputId": "a1e60419-200f-45b9-fd50-5d68e448676c",
        "colab": {
          "base_uri": "https://localhost:8080/",
          "height": 52
        }
      },
      "source": [
        "# A-level grading system\n",
        "'''\n",
        "A: 70% or above\n",
        "B: 60% to 69%\n",
        "C: 55% to 59%\n",
        "D: 50% to 54%\n",
        "E: 45% to 49% (passing grade)\n",
        "S: 40% to 44% (denotes standard is at AO level only)\n",
        "U: 39% and below\n",
        "'''\n",
        "score = float((input(\"Enter score: \"))) # Uses float to accomodate for 0.5 marks\n",
        "if score >= 70:\n",
        "  print(\"A\")\n",
        "elif 60 <= score <= 69.9: # Adds up to 0.9 to accomodate for decimals\n",
        "  print(\"B\")\n",
        "elif 55 <= score <= 59.9:\n",
        "  print(\"C\")\n",
        "elif 50 <= score <= 54.9:\n",
        "  print(\"D\")\n",
        "elif 45 <= score <= 49.9:\n",
        "  print(\"E\")\n",
        "elif 40 <= score <= 44.9:\n",
        "  print(\"S\")\n",
        "else: # <= 39\n",
        "  print(\"U\")"
      ],
      "execution_count": 3,
      "outputs": [
        {
          "output_type": "stream",
          "text": [
            "Enter score: 69.5\n",
            "B\n"
          ],
          "name": "stdout"
        }
      ]
    },
    {
      "cell_type": "markdown",
      "metadata": {
        "id": "u5DPs4r_sgVn"
      },
      "source": [
        "## **Exercise: Are you cool?**\n",
        "Write a temperature detector which will take in a temperature in degrees celsius and output \"You are cool.\" if the temperature is below 38.0. Otherwise, output \"You are hot!\".\n",
        "\n",
        "Enhance your temperature detector to also check for a reasonable range of human temperature between 35 and 42 degrees celsius."
      ]
    },
    {
      "cell_type": "code",
      "metadata": {
        "id": "mLibMDuXnyrn",
        "outputId": "9a8eca9a-7da9-495e-9fb1-2de6b6cb1355",
        "colab": {
          "base_uri": "https://localhost:8080/",
          "height": 51
        }
      },
      "source": [
        "temperature = float(input(\"Enter temperature: \"))\n",
        "# if not (35 <= temperature <= 42):\n",
        "if (temperature < 35) or (temperature > 42):\n",
        "  print(\"Are you human?\")\n",
        "elif temperature < 38.0:\n",
        "  print(\"You are cool\")\n",
        "else: # >= 38.0\n",
        "  print(\"You are hot!\")"
      ],
      "execution_count": null,
      "outputs": [
        {
          "output_type": "stream",
          "text": [
            "Enter temperature: 88\n",
            "Are you human?\n"
          ],
          "name": "stdout"
        }
      ]
    },
    {
      "cell_type": "markdown",
      "metadata": {
        "id": "xbz9sSeapnzu"
      },
      "source": [
        "## **Exercise: Are you healthy?**\n",
        "Write a body mass index (BMI) calculator which takes in a weight (in kg) and a height (in m) and output the BMI. BMI is calculated by weight / (height * height)\n",
        "\n",
        "Use https://www.healthhub.sg/live-healthy/410/Healthy%20Weight to determine an appropriate health advisory message."
      ]
    },
    {
      "cell_type": "code",
      "metadata": {
        "id": "EGtF_UTusisc",
        "outputId": "848c5268-efff-459f-9ab1-f9913a0e089e",
        "colab": {
          "base_uri": "https://localhost:8080/",
          "height": 34
        }
      },
      "source": [
        "# get weight and height\n",
        "#weight = int(input(\"Enter weight in kg: \"))\n",
        "#height = float(input(\"Enter height in m: \"))\n",
        "\n",
        "# compute BMI\n",
        "#bmi = weight / (height * height)\n",
        "# bmi = weight / (height ** 2)\n",
        "\n",
        "# output BMI\n",
        "#print(f\"{bmi:.5f}\")\n",
        "\n",
        "bmi = 27.45\n",
        "# determine health risk\n",
        "if bmi < 18.5:\n",
        "  print(\"Malnutrition\")\n",
        "elif 18.5 <= bmi < 23:\n",
        "  print(\"Normal\")\n",
        "elif 23 <= bmi < 27.5:\n",
        "  print(\"Moderate risk\")\n",
        "else: # >= 27.5\n",
        "  print(\"High risk\")"
      ],
      "execution_count": null,
      "outputs": [
        {
          "output_type": "stream",
          "text": [
            "Moderate risk\n"
          ],
          "name": "stdout"
        }
      ]
    },
    {
      "cell_type": "markdown",
      "metadata": {
        "id": "Gqlb228MwIRR"
      },
      "source": [
        "## **Exercise: Are you lucky?**\n",
        "Write a luck determinator which takes in a number between 1 and 6 and determine if it is equal to a system generated pseudo-random number.\n",
        "\n",
        "Loop until you becomes lucky."
      ]
    },
    {
      "cell_type": "code",
      "metadata": {
        "id": "xBj-ovy1wqgO",
        "outputId": "369d5f78-6d7f-4b9d-ec00-aa91d307477a",
        "colab": {
          "base_uri": "https://localhost:8080/",
          "height": 291
        }
      },
      "source": [
        "import random\n",
        "\n",
        "num = int(input(\"Enter a number between 1 to 6: \"))\n",
        "\n",
        "lucky = random.randint(1, 6)\n",
        "print(lucky)\n",
        "\n",
        "while num != lucky:\n",
        "  lucky = random.randint(1, 6)\n",
        "  print(lucky)\n",
        "\n",
        "print(\"BINGO!\")"
      ],
      "execution_count": null,
      "outputs": [
        {
          "output_type": "stream",
          "text": [
            "Enter a number between 1 to 6: 5\n",
            "4\n",
            "3\n",
            "1\n",
            "1\n",
            "6\n",
            "1\n",
            "6\n",
            "3\n",
            "1\n",
            "6\n",
            "2\n",
            "2\n",
            "4\n",
            "5\n",
            "BINGO!\n"
          ],
          "name": "stdout"
        }
      ]
    },
    {
      "cell_type": "code",
      "metadata": {
        "id": "-PlQZTwHD1Ym"
      },
      "source": [
        ""
      ],
      "execution_count": null,
      "outputs": []
    }
  ]
}
