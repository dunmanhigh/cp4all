{
 "cells": [
  {
   "cell_type": "markdown",
   "metadata": {
    "id": "fMAfvpiB2eCL"
   },
   "source": [
    "### Comments\n",
    "\n",
    "Comments are not processed by the computer but should be included within your programs to explain the purpose of your code.\n",
    "\n",
    "In Python, comments start with the symbol #.\n",
    "\n"
   ]
  },
  {
   "cell_type": "code",
   "execution_count": null,
   "metadata": {
    "id": "2parHKSwCglo"
   },
   "outputs": [],
   "source": [
    "# Comments\n",
    "# 2nd line\n",
    "# Especially useful when looking back at your code after a period of time"
   ]
  },
  {
   "cell_type": "code",
   "execution_count": null,
   "metadata": {
    "colab": {
     "base_uri": "https://localhost:8080/",
     "height": 34
    },
    "executionInfo": {
     "elapsed": 1022,
     "status": "ok",
     "timestamp": 1580954406682,
     "user": {
      "displayName": "Staff Gi Soong Chee",
      "photoUrl": "https://lh3.googleusercontent.com/a-/AAuE7mB0pSW2hKBSZR0SaaHJg5i7H7MSJ6k280oU8WWd=s64",
      "userId": "12146369489392398644"
     },
     "user_tz": -480
    },
    "id": "H_hPMfGT5VJU",
    "outputId": "e3e55e40-65fa-4206-92f1-ae5d3e6afab4"
   },
   "outputs": [
    {
     "name": "stdout",
     "output_type": "stream",
     "text": [
      "Good morning!\n"
     ]
    }
   ],
   "source": [
    "# Output\n",
    "print(\"Good morning!\")"
   ]
  },
  {
   "cell_type": "markdown",
   "metadata": {},
   "source": [
    "## Assignment\n",
    "Identifiers can be assigned values to store. Identifiers should be meaningful to the context of the program so that the logic of it is easier to understand."
   ]
  },
  {
   "cell_type": "code",
   "execution_count": 3,
   "metadata": {},
   "outputs": [
    {
     "name": "stdout",
     "output_type": "stream",
     "text": [
      "David\n",
      "18\n"
     ]
    }
   ],
   "source": [
    "name = \"David\"\n",
    "age = 18\n",
    "\n",
    "print(name)\n",
    "print(age)"
   ]
  },
  {
   "cell_type": "markdown",
   "metadata": {
    "id": "2Z2HDqYM3J6i"
   },
   "source": [
    "## Data types\n",
    "\n",
    "Common data types include integers, floating point / real numbers, text strings and Boolean."
   ]
  },
  {
   "cell_type": "code",
   "execution_count": null,
   "metadata": {
    "colab": {
     "base_uri": "https://localhost:8080/",
     "height": 34
    },
    "executionInfo": {
     "elapsed": 1131,
     "status": "ok",
     "timestamp": 1580954476179,
     "user": {
      "displayName": "Staff Gi Soong Chee",
      "photoUrl": "https://lh3.googleusercontent.com/a-/AAuE7mB0pSW2hKBSZR0SaaHJg5i7H7MSJ6k280oU8WWd=s64",
      "userId": "12146369489392398644"
     },
     "user_tz": -480
    },
    "id": "AtwA-8IU5f4L",
    "outputId": "c9b86006-1c96-4601-951e-a6f90e404b80"
   },
   "outputs": [
    {
     "data": {
      "text/plain": [
       "int"
      ]
     },
     "execution_count": 4,
     "metadata": {
      "tags": []
     },
     "output_type": "execute_result"
    }
   ],
   "source": [
    "# Data types\n",
    "type(123)"
   ]
  },
  {
   "cell_type": "code",
   "execution_count": null,
   "metadata": {
    "colab": {
     "base_uri": "https://localhost:8080/",
     "height": 34
    },
    "executionInfo": {
     "elapsed": 1052,
     "status": "ok",
     "timestamp": 1580954509496,
     "user": {
      "displayName": "Staff Gi Soong Chee",
      "photoUrl": "https://lh3.googleusercontent.com/a-/AAuE7mB0pSW2hKBSZR0SaaHJg5i7H7MSJ6k280oU8WWd=s64",
      "userId": "12146369489392398644"
     },
     "user_tz": -480
    },
    "id": "-h-OtmwXOw9y",
    "outputId": "30faeaa9-c200-4078-89e4-f99f8e319e3b"
   },
   "outputs": [
    {
     "data": {
      "text/plain": [
       "float"
      ]
     },
     "execution_count": 5,
     "metadata": {
      "tags": []
     },
     "output_type": "execute_result"
    }
   ],
   "source": [
    "type(3.14)"
   ]
  },
  {
   "cell_type": "code",
   "execution_count": null,
   "metadata": {
    "colab": {
     "base_uri": "https://localhost:8080/",
     "height": 34
    },
    "executionInfo": {
     "elapsed": 931,
     "status": "ok",
     "timestamp": 1580954537102,
     "user": {
      "displayName": "Staff Gi Soong Chee",
      "photoUrl": "https://lh3.googleusercontent.com/a-/AAuE7mB0pSW2hKBSZR0SaaHJg5i7H7MSJ6k280oU8WWd=s64",
      "userId": "12146369489392398644"
     },
     "user_tz": -480
    },
    "id": "IrkkB1iKO5d1",
    "outputId": "46d2d9dc-7b7d-4a37-b336-c989c13fc139"
   },
   "outputs": [
    {
     "data": {
      "text/plain": [
       "str"
      ]
     },
     "execution_count": 6,
     "metadata": {
      "tags": []
     },
     "output_type": "execute_result"
    }
   ],
   "source": [
    "type(\"Hello!\")"
   ]
  },
  {
   "cell_type": "code",
   "execution_count": null,
   "metadata": {
    "colab": {
     "base_uri": "https://localhost:8080/",
     "height": 34
    },
    "executionInfo": {
     "elapsed": 989,
     "status": "ok",
     "timestamp": 1580954561795,
     "user": {
      "displayName": "Staff Gi Soong Chee",
      "photoUrl": "https://lh3.googleusercontent.com/a-/AAuE7mB0pSW2hKBSZR0SaaHJg5i7H7MSJ6k280oU8WWd=s64",
      "userId": "12146369489392398644"
     },
     "user_tz": -480
    },
    "id": "n9GlL9AGO-FV",
    "outputId": "ec366bb5-33c0-4748-bc50-6f204588ba5d"
   },
   "outputs": [
    {
     "data": {
      "text/plain": [
       "bool"
      ]
     },
     "execution_count": 7,
     "metadata": {
      "tags": []
     },
     "output_type": "execute_result"
    }
   ],
   "source": [
    "type(True)"
   ]
  },
  {
   "cell_type": "markdown",
   "metadata": {},
   "source": [
    "## Conversion of data types"
   ]
  },
  {
   "cell_type": "code",
   "execution_count": 2,
   "metadata": {},
   "outputs": [
    {
     "name": "stdout",
     "output_type": "stream",
     "text": [
      "<class 'str'>\n",
      "<class 'int'>\n"
     ]
    }
   ],
   "source": [
    "age = \"18\"\n",
    "print(type(age))\n",
    "\n",
    "# convert str data type to int\n",
    "age = int(age)\n",
    "print(type(age))"
   ]
  },
  {
   "cell_type": "code",
   "execution_count": 4,
   "metadata": {},
   "outputs": [
    {
     "name": "stdout",
     "output_type": "stream",
     "text": [
      "<class 'int'>\n",
      "20.0\n",
      "<class 'float'>\n"
     ]
    }
   ],
   "source": [
    "money = 20\n",
    "print(type(money))\n",
    "\n",
    "# convert int data type to float\n",
    "money = float(money)\n",
    "print(money)\n",
    "print(type(money))"
   ]
  },
  {
   "cell_type": "markdown",
   "metadata": {},
   "source": [
    "## Getting User Input\n",
    "Note: Even though the input may logically be a number (int or float), it is always originally a string unless converted."
   ]
  },
  {
   "cell_type": "code",
   "execution_count": 6,
   "metadata": {},
   "outputs": [
    {
     "name": "stdout",
     "output_type": "stream",
     "text": [
      "Enter your username:dunmanhigh\n",
      "dunmanhigh\n"
     ]
    }
   ],
   "source": [
    "username = input(\"Enter your username:\")\n",
    "print(username)"
   ]
  },
  {
   "cell_type": "code",
   "execution_count": 7,
   "metadata": {},
   "outputs": [
    {
     "name": "stdout",
     "output_type": "stream",
     "text": [
      "Enter a number: 36\n",
      "36\n",
      "<class 'str'>\n"
     ]
    }
   ],
   "source": [
    "number = input(\"Enter a number: \")\n",
    "print(number)\n",
    "print(type(number))"
   ]
  },
  {
   "cell_type": "markdown",
   "metadata": {
    "id": "gYJngaiK3Yf-"
   },
   "source": [
    "## Mathematics operations\n",
    "\n"
   ]
  },
  {
   "cell_type": "code",
   "execution_count": null,
   "metadata": {
    "colab": {
     "base_uri": "https://localhost:8080/",
     "height": 34
    },
    "executionInfo": {
     "elapsed": 963,
     "status": "ok",
     "timestamp": 1580954621216,
     "user": {
      "displayName": "Staff Gi Soong Chee",
      "photoUrl": "https://lh3.googleusercontent.com/a-/AAuE7mB0pSW2hKBSZR0SaaHJg5i7H7MSJ6k280oU8WWd=s64",
      "userId": "12146369489392398644"
     },
     "user_tz": -480
    },
    "id": "LCfTaAZQ5nAX",
    "outputId": "d2b228c3-3457-4f32-cf7b-5842b5450362"
   },
   "outputs": [
    {
     "data": {
      "text/plain": [
       "3"
      ]
     },
     "execution_count": 8,
     "metadata": {
      "tags": []
     },
     "output_type": "execute_result"
    }
   ],
   "source": [
    "# add\n",
    "1 + 2"
   ]
  },
  {
   "cell_type": "code",
   "execution_count": null,
   "metadata": {
    "colab": {
     "base_uri": "https://localhost:8080/",
     "height": 34
    },
    "executionInfo": {
     "elapsed": 576,
     "status": "ok",
     "timestamp": 1580954629857,
     "user": {
      "displayName": "Staff Gi Soong Chee",
      "photoUrl": "https://lh3.googleusercontent.com/a-/AAuE7mB0pSW2hKBSZR0SaaHJg5i7H7MSJ6k280oU8WWd=s64",
      "userId": "12146369489392398644"
     },
     "user_tz": -480
    },
    "id": "Rf-5YcIAPSX3",
    "outputId": "17555999-328c-4759-84d2-28c9a2d4f4c2"
   },
   "outputs": [
    {
     "data": {
      "text/plain": [
       "-3"
      ]
     },
     "execution_count": 9,
     "metadata": {
      "tags": []
     },
     "output_type": "execute_result"
    }
   ],
   "source": [
    "# subtract\n",
    "2 - 5"
   ]
  },
  {
   "cell_type": "code",
   "execution_count": null,
   "metadata": {
    "colab": {
     "base_uri": "https://localhost:8080/",
     "height": 34
    },
    "executionInfo": {
     "elapsed": 908,
     "status": "ok",
     "timestamp": 1580954659250,
     "user": {
      "displayName": "Staff Gi Soong Chee",
      "photoUrl": "https://lh3.googleusercontent.com/a-/AAuE7mB0pSW2hKBSZR0SaaHJg5i7H7MSJ6k280oU8WWd=s64",
      "userId": "12146369489392398644"
     },
     "user_tz": -480
    },
    "id": "yB3IWyHYPUJ2",
    "outputId": "59b9f841-45b3-4087-d38c-7f25df8e4595"
   },
   "outputs": [
    {
     "data": {
      "text/plain": [
       "15"
      ]
     },
     "execution_count": 10,
     "metadata": {
      "tags": []
     },
     "output_type": "execute_result"
    }
   ],
   "source": [
    "# multiply\n",
    "5 * 3"
   ]
  },
  {
   "cell_type": "code",
   "execution_count": null,
   "metadata": {
    "colab": {
     "base_uri": "https://localhost:8080/",
     "height": 34
    },
    "executionInfo": {
     "elapsed": 931,
     "status": "ok",
     "timestamp": 1580954671557,
     "user": {
      "displayName": "Staff Gi Soong Chee",
      "photoUrl": "https://lh3.googleusercontent.com/a-/AAuE7mB0pSW2hKBSZR0SaaHJg5i7H7MSJ6k280oU8WWd=s64",
      "userId": "12146369489392398644"
     },
     "user_tz": -480
    },
    "id": "4plPA8XgPcE3",
    "outputId": "c4eb1430-c4bf-4f69-b86e-21dcf7b2c687"
   },
   "outputs": [
    {
     "data": {
      "text/plain": [
       "2.3333333333333335"
      ]
     },
     "execution_count": 11,
     "metadata": {
      "tags": []
     },
     "output_type": "execute_result"
    }
   ],
   "source": [
    "# divide (true division)\n",
    "7 / 3"
   ]
  },
  {
   "cell_type": "code",
   "execution_count": null,
   "metadata": {
    "colab": {
     "base_uri": "https://localhost:8080/",
     "height": 34
    },
    "executionInfo": {
     "elapsed": 986,
     "status": "ok",
     "timestamp": 1580954692246,
     "user": {
      "displayName": "Staff Gi Soong Chee",
      "photoUrl": "https://lh3.googleusercontent.com/a-/AAuE7mB0pSW2hKBSZR0SaaHJg5i7H7MSJ6k280oU8WWd=s64",
      "userId": "12146369489392398644"
     },
     "user_tz": -480
    },
    "id": "aDk4znAgPhAB",
    "outputId": "a802d1d7-9e6b-4f3e-f94c-4fba817d67b3"
   },
   "outputs": [
    {
     "data": {
      "text/plain": [
       "2"
      ]
     },
     "execution_count": 12,
     "metadata": {
      "tags": []
     },
     "output_type": "execute_result"
    }
   ],
   "source": [
    "# integer divide (quotient)\n",
    "7 // 3"
   ]
  },
  {
   "cell_type": "code",
   "execution_count": null,
   "metadata": {
    "colab": {
     "base_uri": "https://localhost:8080/",
     "height": 34
    },
    "executionInfo": {
     "elapsed": 913,
     "status": "ok",
     "timestamp": 1580954737707,
     "user": {
      "displayName": "Staff Gi Soong Chee",
      "photoUrl": "https://lh3.googleusercontent.com/a-/AAuE7mB0pSW2hKBSZR0SaaHJg5i7H7MSJ6k280oU8WWd=s64",
      "userId": "12146369489392398644"
     },
     "user_tz": -480
    },
    "id": "HPv_93u8Pryg",
    "outputId": "fba6843d-f8e6-49d5-9d64-7d82eaa799e3"
   },
   "outputs": [
    {
     "data": {
      "text/plain": [
       "8"
      ]
     },
     "execution_count": 13,
     "metadata": {
      "tags": []
     },
     "output_type": "execute_result"
    }
   ],
   "source": [
    "# exponent (power to)\n",
    "2 ** 3"
   ]
  },
  {
   "cell_type": "code",
   "execution_count": null,
   "metadata": {
    "colab": {
     "base_uri": "https://localhost:8080/",
     "height": 34
    },
    "executionInfo": {
     "elapsed": 940,
     "status": "ok",
     "timestamp": 1580954798844,
     "user": {
      "displayName": "Staff Gi Soong Chee",
      "photoUrl": "https://lh3.googleusercontent.com/a-/AAuE7mB0pSW2hKBSZR0SaaHJg5i7H7MSJ6k280oU8WWd=s64",
      "userId": "12146369489392398644"
     },
     "user_tz": -480
    },
    "id": "hw9J1WnrPvm5",
    "outputId": "a4319d7f-1afa-460e-b46a-ace1280c7c7b"
   },
   "outputs": [
    {
     "data": {
      "text/plain": [
       "2"
      ]
     },
     "execution_count": 15,
     "metadata": {
      "tags": []
     },
     "output_type": "execute_result"
    }
   ],
   "source": [
    "# modulo (gives remainder of division)\n",
    "8 % 3"
   ]
  },
  {
   "cell_type": "markdown",
   "metadata": {
    "id": "VMH7BytY4XBW"
   },
   "source": [
    "### Comparison operators"
   ]
  },
  {
   "cell_type": "code",
   "execution_count": null,
   "metadata": {
    "colab": {
     "base_uri": "https://localhost:8080/",
     "height": 34
    },
    "executionInfo": {
     "elapsed": 1093,
     "status": "ok",
     "timestamp": 1580955223128,
     "user": {
      "displayName": "Staff Gi Soong Chee",
      "photoUrl": "https://lh3.googleusercontent.com/a-/AAuE7mB0pSW2hKBSZR0SaaHJg5i7H7MSJ6k280oU8WWd=s64",
      "userId": "12146369489392398644"
     },
     "user_tz": -480
    },
    "id": "Zvcmz4B86twc",
    "outputId": "d732f154-c201-43fa-d0b0-74c8019629b8"
   },
   "outputs": [
    {
     "data": {
      "text/plain": [
       "False"
      ]
     },
     "execution_count": 27,
     "metadata": {
      "tags": []
     },
     "output_type": "execute_result"
    }
   ],
   "source": [
    "# Comparison operators\n",
    "2 > 1\n",
    "2 >= 3\n",
    "2 < 5\n",
    "5 <= 5\n",
    "5 == 5\n",
    "5 != 5"
   ]
  },
  {
   "cell_type": "markdown",
   "metadata": {
    "id": "gpSzptTm4cup"
   },
   "source": [
    "## Logical operators\n",
    "\n",
    "*   and\n",
    "*   or\n",
    "*   not\n",
    "\n",
    "\n",
    "\n"
   ]
  }
 ],
 "metadata": {
  "colab": {
   "authorship_tag": "ABX9TyMfHUa8FXWH6NO5JI2zlUjG",
   "name": "Python01 - Introduction.ipynb",
   "provenance": []
  },
  "kernelspec": {
   "display_name": "Python 3",
   "language": "python",
   "name": "python3"
  },
  "language_info": {
   "codemirror_mode": {
    "name": "ipython",
    "version": 3
   },
   "file_extension": ".py",
   "mimetype": "text/x-python",
   "name": "python",
   "nbconvert_exporter": "python",
   "pygments_lexer": "ipython3",
   "version": "3.8.2"
  }
 },
 "nbformat": 4,
 "nbformat_minor": 1
}
