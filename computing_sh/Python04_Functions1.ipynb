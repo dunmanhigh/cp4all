{
 "cells": [
  {
   "cell_type": "markdown",
   "metadata": {
    "id": "T2WJq3h5YVNA"
   },
   "source": [
    "# **Functions** \n",
    "A function is a reusable subprogram that performs a well defined task\n",
    "\n",
    "DRY - Don't Repeat Yourself\n",
    "\n",
    "Examples (system-defined): print(), input(), range(n), randint(low,high)\n",
    "\n",
    "We will create our own functions (user-defined)."
   ]
  },
  {
   "cell_type": "code",
   "execution_count": null,
   "metadata": {
    "colab": {
     "base_uri": "https://localhost:8080/",
     "height": 446
    },
    "id": "Ppvm2EMDtVj0",
    "outputId": "2e3fcee7-a751-40f5-da53-f12f5f7c9d5b"
   },
   "outputs": [
    {
     "name": "stdout",
     "output_type": "stream",
     "text": [
      "(1) Add\n",
      "(2) Update\n",
      "(3) Delete\n",
      "(4) Search\n",
      "(0) Quit\n",
      "Enter option: 1\n",
      "(1) Add\n",
      "(2) Update\n",
      "(3) Delete\n",
      "(4) Search\n",
      "(0) Quit\n",
      "Enter option: 3\n",
      "(1) Add\n",
      "(2) Update\n",
      "(3) Delete\n",
      "(4) Search\n",
      "(0) Quit\n",
      "Enter option: 2\n",
      "(1) Add\n",
      "(2) Update\n",
      "(3) Delete\n",
      "(4) Search\n",
      "(0) Quit\n",
      "Enter option: 0\n",
      "Bye\n"
     ]
    }
   ],
   "source": [
    "# Function - no parameters, no (explicit) return\n",
    "\n",
    "def menu():\n",
    "  print(\"(1) Add\")\n",
    "  print(\"(2) Update\")\n",
    "  print(\"(3) Delete\")\n",
    "  print(\"(4) Search\")\n",
    "  print(\"(0) Quit\")\n",
    "\n",
    "option = \"\"\n",
    "while option != '0':\n",
    "  menu()\n",
    "  option = input(\"Enter option: \")\n",
    "print(\"Bye\")\n"
   ]
  },
  {
   "cell_type": "code",
   "execution_count": null,
   "metadata": {
    "colab": {
     "base_uri": "https://localhost:8080/",
     "height": 69
    },
    "id": "Yc0ZLCGQxRo6",
    "outputId": "c9cbf712-0b7d-4115-d750-dc810e9aca40"
   },
   "outputs": [
    {
     "name": "stdout",
     "output_type": "stream",
     "text": [
      "-5\n",
      "0\n",
      "3\n"
     ]
    }
   ],
   "source": [
    "# Function - return\n",
    "def negate(n):\n",
    "  return -n\n",
    "\n",
    "# main\n",
    "print(negate(5))\n",
    "print(negate(0))\n",
    "print(negate(-3))"
   ]
  },
  {
   "cell_type": "code",
   "execution_count": null,
   "metadata": {
    "colab": {
     "base_uri": "https://localhost:8080/",
     "height": 52
    },
    "id": "-HxSFLZZYp1e",
    "outputId": "fbbe73f0-8979-4248-d972-d52e84ba7c20"
   },
   "outputs": [
    {
     "name": "stdout",
     "output_type": "stream",
     "text": [
      "HOT!\n",
      "Cool\n"
     ]
    }
   ],
   "source": [
    "# Function - 1 parameter\n",
    "# temperature checker\n",
    "def check_temperature(temperature):\n",
    "  if temperature >= 38.0:\n",
    "    return \"HOT!\"\n",
    "  else:\n",
    "    return \"Cool\"\n",
    "\n",
    "# main\n",
    "print(check_temperature(39))\n",
    "print(check_temperature(36.7))"
   ]
  },
  {
   "cell_type": "code",
   "execution_count": null,
   "metadata": {
    "colab": {
     "base_uri": "https://localhost:8080/",
     "height": 52
    },
    "id": "NxCt6l5dYuQn",
    "outputId": "2bdbef98-9335-43a0-96cb-9c159fc79c75"
   },
   "outputs": [
    {
     "name": "stdout",
     "output_type": "stream",
     "text": [
      "Mr Tom\n",
      "Miss Mary\n"
     ]
    }
   ],
   "source": [
    "# Function - 2 parameters\n",
    "# display salutation with name\n",
    "def greet(name, gender):\n",
    "  if gender == 'F':\n",
    "    return \"Miss \" + name\n",
    "  else: # male\n",
    "    return \"Mr \" + name\n",
    "\n",
    "# main\n",
    "print(greet(\"Tom\", 'M'))\n",
    "print(greet(\"Mary\", 'F'))"
   ]
  },
  {
   "cell_type": "code",
   "execution_count": null,
   "metadata": {
    "colab": {
     "base_uri": "https://localhost:8080/",
     "height": 52
    },
    "id": "QVkfd_JBj9gT",
    "outputId": "c489eaf6-daeb-44b0-a297-97dba8fdead9"
   },
   "outputs": [
    {
     "name": "stdout",
     "output_type": "stream",
     "text": [
      "Yo!\n",
      "None\n"
     ]
    }
   ],
   "source": [
    "# if a function does not have a return statement\n",
    "# it will actually return None\n",
    "def boliao(message):\n",
    "  print(message)\n",
    "\n",
    "# main\n",
    "print(boliao(\"Yo!\"))"
   ]
  },
  {
   "cell_type": "markdown",
   "metadata": {
    "id": "C_OD61P8Za1Z"
   },
   "source": [
    "## **Exercise: Prime**\n",
    "\n",
    "Write a function is_prime(n) to test whether a number n is prime.\n",
    "\n",
    "By definition, a number is prime if it is only divisible by 1 and itself.\n",
    "By definition, 1 is not prime.\n",
    "\n",
    "Hint: use %"
   ]
  },
  {
   "cell_type": "code",
   "execution_count": null,
   "metadata": {
    "colab": {
     "base_uri": "https://localhost:8080/",
     "height": 121
    },
    "id": "nDUDhePVZqlE",
    "outputId": "a57c5402-53fc-44cb-9761-9aa6169cd178"
   },
   "outputs": [
    {
     "name": "stdout",
     "output_type": "stream",
     "text": [
      "False\n",
      "True\n",
      "True\n",
      "True\n",
      "False\n",
      "True\n"
     ]
    }
   ],
   "source": [
    "def is_prime(n):\n",
    "  if n == 1:\n",
    "    return False\n",
    "  for i in range(2, n):\n",
    "    if n % i == 0: # found a divisor i\n",
    "      return False\n",
    "  return True\n",
    "\n",
    "# main\n",
    "print(is_prime(1))\n",
    "print(is_prime(2))\n",
    "print(is_prime(3))\n",
    "print(is_prime(5))\n",
    "print(is_prime(35))\n",
    "print(is_prime(83))"
   ]
  },
  {
   "cell_type": "markdown",
   "metadata": {
    "id": "HGHlarxsZDkR"
   },
   "source": [
    "# **Import**\n",
    "Reuse, do not reinvent the wheel"
   ]
  },
  {
   "cell_type": "code",
   "execution_count": null,
   "metadata": {
    "colab": {
     "base_uri": "https://localhost:8080/",
     "height": 52
    },
    "id": "M-6WYoybZPL8",
    "outputId": "859d591d-c25d-4949-fdee-180952938ace"
   },
   "outputs": [
    {
     "name": "stdout",
     "output_type": "stream",
     "text": [
      "31.41592653589793\n"
     ]
    },
    {
     "data": {
      "text/plain": [
       "3.141592653589793"
      ]
     },
     "execution_count": 17,
     "metadata": {
      "tags": []
     },
     "output_type": "execute_result"
    }
   ],
   "source": [
    "# math\n",
    "import math\n",
    "\n",
    "radius = 5\n",
    "circumference = 2 * math.pi * radius \n",
    "print(circumference)\n",
    "math.pi\n"
   ]
  },
  {
   "cell_type": "code",
   "execution_count": null,
   "metadata": {
    "colab": {
     "base_uri": "https://localhost:8080/",
     "height": 52
    },
    "id": "eBJRuQB1lhlp",
    "outputId": "0dbf3a8e-acde-4d5c-a282-5d184a7a600f"
   },
   "outputs": [
    {
     "name": "stdout",
     "output_type": "stream",
     "text": [
      "31.41592653589793\n"
     ]
    },
    {
     "data": {
      "text/plain": [
       "3.141592653589793"
      ]
     },
     "execution_count": 18,
     "metadata": {
      "tags": []
     },
     "output_type": "execute_result"
    }
   ],
   "source": [
    "from math import pi\n",
    "\n",
    "radius = 5\n",
    "circumference = 2 * pi * radius \n",
    "print(circumference)\n",
    "pi\n"
   ]
  },
  {
   "cell_type": "code",
   "execution_count": null,
   "metadata": {
    "colab": {
     "base_uri": "https://localhost:8080/",
     "height": 35
    },
    "id": "_lQj4zIka9CT",
    "outputId": "6287e468-0fc2-4f87-dbc4-a5c73b0aac6f"
   },
   "outputs": [
    {
     "name": "stdout",
     "output_type": "stream",
     "text": [
      "7\n"
     ]
    }
   ],
   "source": [
    "# random\n",
    "import random\n",
    "\n",
    "print(random.randint(1, 10))\n"
   ]
  },
  {
   "cell_type": "code",
   "execution_count": null,
   "metadata": {
    "colab": {
     "base_uri": "https://localhost:8080/",
     "height": 35
    },
    "id": "tyW_NC7HmETg",
    "outputId": "562d4282-4b3a-46ae-8b70-97f2432283d1"
   },
   "outputs": [
    {
     "name": "stdout",
     "output_type": "stream",
     "text": [
      "4\n"
     ]
    }
   ],
   "source": [
    "# random\n",
    "from random import randint\n",
    "\n",
    "print(randint(1, 10))"
   ]
  },
  {
   "cell_type": "code",
   "execution_count": null,
   "metadata": {
    "colab": {
     "base_uri": "https://localhost:8080/",
     "height": 35
    },
    "id": "gf37bqBabLfv",
    "outputId": "12d7bd18-cb48-4c8d-d01b-017333dbfb06"
   },
   "outputs": [
    {
     "data": {
      "text/plain": [
       "'HOT!'"
      ]
     },
     "execution_count": 22,
     "metadata": {
      "tags": []
     },
     "output_type": "execute_result"
    }
   ],
   "source": [
    "# user-defined function eg temp.py\n",
    "import temp\n",
    "\n",
    "temp.check_temperature(38)\n"
   ]
  },
  {
   "cell_type": "code",
   "execution_count": null,
   "metadata": {
    "id": "B08AzZLdnTUv"
   },
   "outputs": [],
   "source": [
    "# temp.py\n",
    "def check_temperature(degree):\n",
    "    if degree >= 37.5:\n",
    "        return \"HOT!\"\n",
    "    else:\n",
    "        return \"Normal.\"\n",
    "    "
   ]
  }
 ],
 "metadata": {
  "colab": {
   "name": "Python04 - Functions.ipynb",
   "provenance": []
  },
  "kernelspec": {
   "display_name": "Python 3",
   "language": "python",
   "name": "python3"
  },
  "language_info": {
   "codemirror_mode": {
    "name": "ipython",
    "version": 3
   },
   "file_extension": ".py",
   "mimetype": "text/x-python",
   "name": "python",
   "nbconvert_exporter": "python",
   "pygments_lexer": "ipython3",
   "version": "3.6.4"
  }
 },
 "nbformat": 4,
 "nbformat_minor": 1
}
