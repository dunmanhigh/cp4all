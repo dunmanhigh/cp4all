{
  "nbformat": 4,
  "nbformat_minor": 0,
  "metadata": {
    "colab": {
      "name": "Python11 - Hash Table Search.ipynb",
      "provenance": [],
      "collapsed_sections": []
    },
    "kernelspec": {
      "name": "python3",
      "display_name": "Python 3"
    }
  },
  "cells": [
    {
      "cell_type": "markdown",
      "metadata": {
        "id": "340Sjtd_MZqE"
      },
      "source": [
        "# **Hash Table Search**\n",
        "* uses a hash function on a record key to compute the address/location of a record (usually index in an array)\n",
        "\n",
        "**Hash function**\n",
        "* map record key to array index\n",
        "\n",
        "**Insert**\n",
        "* if the location is empty, store the record at that location\n",
        "* if the location is occupied, we have a collision, use collision resolution strategy to insert collided record\n",
        "\n",
        "**Search**\n",
        "* perform hash function on record key to get record address\n",
        "* if found, bingo\n",
        "* else if location empty, not found\n",
        "* else if location occupied (means collision), use collision resolution strategy to find record if record exists\n",
        "\n",
        "**Update**\n",
        "* perform hash function on record key to get record address\n",
        "* if found, update record field(s)\n",
        "* else if location empty, not found\n",
        "* else if location occupied (means collision), use collision resolution strategy to find record to perform update if record exists\n",
        "\n",
        "**Delete**\n",
        "* search for record\n",
        "* if found, delete and use collision resolution strategy to shift remaining collided records (may be easier to rehash remaining collided records)\n",
        "\n",
        "**Collision resolution strategy**  \n",
        "* linear probing - store at next available location\n",
        "* quadratic probing\n",
        "* others\n",
        "\n"
      ]
    },
    {
      "cell_type": "markdown",
      "metadata": {
        "id": "WzBMQkruOlFy"
      },
      "source": [
        "An ideal hash function\n",
        "* is very fast\n",
        "* can return a large range of hash values\n",
        "* generates a unique hash for every unique input (no collisions)\n",
        "* generates dissimilar hash values for similar input values\n",
        "* generated hash values are randomly distributed\n",
        "\n",
        "Commonly used hash functions\n",
        "* MD5\n",
        "* SHA\n",
        "\n"
      ]
    },
    {
      "cell_type": "code",
      "metadata": {
        "id": "6HyvY844b6EL",
        "outputId": "e5e635c3-4630-4abd-e066-f224e0fea16c",
        "colab": {
          "base_uri": "https://localhost:8080/",
          "height": 225
        }
      },
      "source": [
        "# hash function\n",
        "def hash(key):\n",
        "  return key % N \n",
        "\n",
        "def insert(key, data):\n",
        "  index = hash(key)\n",
        "  if hash_table[index] == -1: # available\n",
        "    hash_table[index] = data\n",
        "  else: # collision\n",
        "    i = index + 1\n",
        "    while hash_table[i] != -1:\n",
        "      i += 1\n",
        "    hash_table[i] = data \n",
        "\n",
        "def search(key, data):\n",
        "  index = hash(key)\n",
        "  if hash_table[index] == data: # found\n",
        "    return \"BINGO!\"\n",
        "  elif hash_table[index] == -1:\n",
        "    return \"Not found\"\n",
        "  else: # collided records\n",
        "    i = index + 1\n",
        "    if i<len(hash_table):\n",
        "        while hash_table[i] != -1:\n",
        "          if hash_table[i] == data: # found in collided records\n",
        "            return \"FINALLY!\"\n",
        "          else:\n",
        "            i += 1\n",
        "    return \"Unfortunately\" \n",
        "\n",
        "def update(key, old_data, new_data):\n",
        "  if search(key, old_data) == \"BINGO!\": # uncollided\n",
        "    index = hash(key)\n",
        "    hash_table[index] = new_data\n",
        "    return \"Updated non-collided record\"\n",
        "  elif search(key, old_data) == \"FINALLY!\": # collided\n",
        "    index = hash(key)\n",
        "    i = index + 1\n",
        "    while hash_table[i] != -1:\n",
        "      if hash_table[i] == old_data:\n",
        "        hash_table[i] = new_data\n",
        "        return \"Updated collided record\"\n",
        "  else: # not found\n",
        "    return \"Cannot update because cannot find\"\n",
        "\n",
        "# main\n",
        "N = 10\n",
        "hash_table = [-1 for i in range(N)]\n",
        "print(hash_table)\n",
        "\n",
        "records = {1234: \"Tom\", 321: \"Mary\", 659: \"Ali\"}\n",
        "print(records)\n",
        "\n",
        "# insert without collision\n",
        "for key, value in records.items():\n",
        "  insert(key, value)\n",
        "print(hash_table)\n",
        "\n",
        "# insert with collision\n",
        "insert(784, \"Peter\")\n",
        "print(hash_table)\n",
        "\n",
        "# search without collision\n",
        "print(search(659, \"Ali\")) # successful\n",
        "print(search(882, \"Lucy\")) # unsuccessful\n",
        "\n",
        "# search with collision\n",
        "print(search(784, \"Peter\")) # successful\n",
        "print(search(404, \"John\")) # unsuccessful\n",
        "\n",
        "# update without collision\n",
        "print(update(659, \"Ali\", \"Ali2\")) # successful\n",
        "print(update(321, \"Ahmad\", \"Ahmad2\")) # unsuccessful\n",
        "\n",
        "# update with collision\n",
        "print(update(784, \"Peter\", \"Peter2\")) # successful\n",
        "print(update(784, \"Roy\", \"Roy2\")) # unsuccessful"
      ],
      "execution_count": null,
      "outputs": [
        {
          "output_type": "stream",
          "text": [
            "[-1, -1, -1, -1, -1, -1, -1, -1, -1, -1]\n",
            "{1234: 'Tom', 321: 'Mary', 659: 'Ali'}\n",
            "[-1, 'Mary', -1, -1, 'Tom', -1, -1, -1, -1, 'Ali']\n",
            "[-1, 'Mary', -1, -1, 'Tom', 'Peter', -1, -1, -1, 'Ali']\n",
            "BINGO!\n",
            "Not found\n",
            "FINALLY!\n",
            "Unfortunately\n",
            "Updated non-collided record\n",
            "Cannot update because cannot find\n",
            "Updated collided record\n",
            "Cannot update because cannot find\n"
          ],
          "name": "stdout"
        }
      ]
    },
    {
      "cell_type": "markdown",
      "metadata": {
        "id": "p7dT1rXCLdNN"
      },
      "source": [
        "Exercises  \n",
        "* implement update and delete\n",
        "* how to add new data after last index eg insert(999, \"Ah Lian\")\n",
        "* linear probing leads to primary clustering. implement quadratic probing i.e. instead of incrementing by i, increment by i<sup>2</sup>.\n",
        "* it is desired to also store the record key with its corresponding data. implement this version by adapting the above."
      ]
    },
    {
      "cell_type": "markdown",
      "metadata": {
        "id": "jgLu-V0Zajbj"
      },
      "source": [
        "**Related links**  \n",
        "* https://www.tutorialspoint.com/data_structures_algorithms/hash_data_structure.htm\n",
        "* https://www.freecodecamp.org/news/md5-vs-sha-1-vs-sha-2-which-is-the-most-secure-encryption-hash-and-how-to-check-them/\n"
      ]
    }
  ]
}


# hash function
def hash(key):
  return key % N 

def insert(key, data):
  index = hash(key)
  if hash_table[index] == -1: # available
    hash_table[index] = data
  else: # collision
    i = index + 1
    while hash_table[i] != -1:
      i += 1
    hash_table[i] = data 

def search(key, data):
  index = hash(key)
  if hash_table[index] == data: # found
    return "BINGO!"
  elif hash_table[index] == -1:
    return "Not found"
  else: # collided records
    i = index + 1
    if i<len(hash_table):
        while hash_table[i] != -1:
          if hash_table[i] == data: # found in collided records
            return "FINALLY!"
          else:
            i += 1
    return "Unfortunately" 

def delete(key, data):
  if search(key, data) == "BINGO!": # foudn in uncollided records
    index = hash(key) # find the index
    hash_table[index] = -1
    return "Deleted (Non-Collision)"
  elif search(key, data) == "FINALLY!": # collided records
    index = hash(key) # find the index
    i = (index + 1) % N
    while hash_table[i] != -1:
      if hash_table[i] == data:
        hash_table[i] = -1
        return "Deleted (Collision)"
  else:
    return "Not Deleted (Not found)"

# insert
records = {991: "Tom", 992: "Mary", 993: "Ali"} # insert without collision
for key, value in records.items(): #.items() function needed because records is in a dictionary
  insert(key, value)
insert(1003, "Peter") # insert with collision
print(hash_table)

# main
N = 10
hash_table = [-1 for i in range(N)]
print(hash_table)

records = {1234: "Tom", 321: "Mary", 659: "Ali"}
print(records)

# insert without collision
for key, value in records.items():
  insert(key, value)
print(hash_table)

# insert with collision
insert(784, "Peter")
print(hash_table)

# search without collision
print(search(659, "Ali")) # successful
print(search(882, "Lucy")) # unsuccessful

# search with collision
print(search(784, "Peter")) # successful
print(search(404, "John")) # unsuccessful

# update without collision
print(update(659, "Ali", "Ali2")) # successful
print(update(321, "Ahmad", "Ahmad2")) # unsuccessful

# update with collision
print(update(784, "Peter", "Peter2")) # successful
print(update(784, "Roy", "Roy2")) # unsuccessful

# delete without collision
print(delete(321, "Mary"))

# delete with collision
print(delete(784, "Peter2"))

# unsuccessful deleted (with and without collision)
print(delete(999, "Bala"))
print(hash_table)
