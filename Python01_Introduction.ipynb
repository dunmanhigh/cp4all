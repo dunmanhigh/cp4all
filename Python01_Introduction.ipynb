{
  "nbformat": 4,
  "nbformat_minor": 0,
  "metadata": {
    "colab": {
      "name": "Copy of Python01_Introduction.ipynb",
      "provenance": [],
      "include_colab_link": true
    },
    "kernelspec": {
      "name": "python3",
      "display_name": "Python 3"
    }
  },
  "cells": [
    {
      "cell_type": "markdown",
      "metadata": {
        "id": "view-in-github",
        "colab_type": "text"
      },
      "source": [
        "<a href=\"https://colab.research.google.com/github/damnpan/cp4all/blob/intro/Python01_Introduction.ipynb\" target=\"_parent\"><img src=\"https://colab.research.google.com/assets/colab-badge.svg\" alt=\"Open In Colab\"/></a>"
      ]
    },
    {
      "cell_type": "markdown",
      "metadata": {
        "id": "fMAfvpiB2eCL"
      },
      "source": [
        "### Comments\n",
        "\n",
        "Comments are not processed by the computer but should be included within your programs to explain the purpose of your code.\n",
        "\n",
        "In Python, comments start with the symbol #.\n",
        "\n",
        "The importance of appropriate comments in a computer program:\n",
        "* comments explain the why rather than the how of the program logic, without repeating the program code.\n",
        "* comments are used as program headers, for identifying important information such as the file name, purpose of the file, author and copyright license information, date modified, etc.\n",
        "* comments are used as part of documentation to help oneself or others understand the program code after a period of time.\n",
        "\n"
      ]
    },
    {
      "cell_type": "code",
      "metadata": {
        "id": "2parHKSwCglo"
      },
      "source": [
        "# Comments\n",
        "# 2nd line"
      ],
      "execution_count": null,
      "outputs": []
    },
    {
      "cell_type": "code",
      "metadata": {
        "id": "H_hPMfGT5VJU",
        "outputId": "e3e55e40-65fa-4206-92f1-ae5d3e6afab4",
        "colab": {
          "base_uri": "https://localhost:8080/",
          "height": 34
        }
      },
      "source": [
        "# Output\n",
        "print(\"Good morning!\")"
      ],
      "execution_count": null,
      "outputs": [
        {
          "output_type": "stream",
          "text": [
            "Good morning!\n"
          ],
          "name": "stdout"
        }
      ]
    },
    {
      "cell_type": "markdown",
      "metadata": {
        "id": "-ernJFIYJwIW"
      },
      "source": [
        "## Multi-line comment"
      ]
    },
    {
      "cell_type": "code",
      "metadata": {
        "id": "iLsA_fPUJ0nB"
      },
      "source": [
        "'''\n",
        "here is a multi-line comment\n",
        "for when you need more space to comment\n",
        "'''\n",
        "\n",
        "\n",
        "\"\"\"\n",
        "they can also be written as such\n",
        "they're useful for large pieces of information\n",
        "\"\"\""
      ],
      "execution_count": null,
      "outputs": []
    },
    {
      "cell_type": "markdown",
      "metadata": {
        "id": "2Z2HDqYM3J6i"
      },
      "source": [
        "## Data types\n",
        "\n",
        "Common data types include integers, floating point / real numbers, text strings and Boolean."
      ]
    },
    {
      "cell_type": "code",
      "metadata": {
        "id": "AtwA-8IU5f4L",
        "outputId": "c9b86006-1c96-4601-951e-a6f90e404b80",
        "colab": {
          "base_uri": "https://localhost:8080/",
          "height": 34
        }
      },
      "source": [
        "# Data types\n",
        "type(123)"
      ],
      "execution_count": null,
      "outputs": [
        {
          "output_type": "execute_result",
          "data": {
            "text/plain": [
              "int"
            ]
          },
          "metadata": {
            "tags": []
          },
          "execution_count": 4
        }
      ]
    },
    {
      "cell_type": "code",
      "metadata": {
        "id": "-h-OtmwXOw9y",
        "outputId": "30faeaa9-c200-4078-89e4-f99f8e319e3b",
        "colab": {
          "base_uri": "https://localhost:8080/",
          "height": 34
        }
      },
      "source": [
        "type(3.14)"
      ],
      "execution_count": null,
      "outputs": [
        {
          "output_type": "execute_result",
          "data": {
            "text/plain": [
              "float"
            ]
          },
          "metadata": {
            "tags": []
          },
          "execution_count": 5
        }
      ]
    },
    {
      "cell_type": "code",
      "metadata": {
        "id": "IrkkB1iKO5d1",
        "outputId": "46d2d9dc-7b7d-4a37-b336-c989c13fc139",
        "colab": {
          "base_uri": "https://localhost:8080/",
          "height": 34
        }
      },
      "source": [
        "type(\"Hello!\")"
      ],
      "execution_count": null,
      "outputs": [
        {
          "output_type": "execute_result",
          "data": {
            "text/plain": [
              "str"
            ]
          },
          "metadata": {
            "tags": []
          },
          "execution_count": 6
        }
      ]
    },
    {
      "cell_type": "code",
      "metadata": {
        "id": "n9GlL9AGO-FV",
        "outputId": "ec366bb5-33c0-4748-bc50-6f204588ba5d",
        "colab": {
          "base_uri": "https://localhost:8080/",
          "height": 34
        }
      },
      "source": [
        "type(True)"
      ],
      "execution_count": null,
      "outputs": [
        {
          "output_type": "execute_result",
          "data": {
            "text/plain": [
              "bool"
            ]
          },
          "metadata": {
            "tags": []
          },
          "execution_count": 7
        }
      ]
    },
    {
      "cell_type": "markdown",
      "metadata": {
        "id": "gYJngaiK3Yf-"
      },
      "source": [
        "## Mathematics operations\n",
        "\n"
      ]
    },
    {
      "cell_type": "code",
      "metadata": {
        "id": "LCfTaAZQ5nAX",
        "outputId": "d2b228c3-3457-4f32-cf7b-5842b5450362",
        "colab": {
          "base_uri": "https://localhost:8080/",
          "height": 34
        }
      },
      "source": [
        "# add\n",
        "1 + 2"
      ],
      "execution_count": null,
      "outputs": [
        {
          "output_type": "execute_result",
          "data": {
            "text/plain": [
              "3"
            ]
          },
          "metadata": {
            "tags": []
          },
          "execution_count": 8
        }
      ]
    },
    {
      "cell_type": "code",
      "metadata": {
        "id": "Rf-5YcIAPSX3",
        "outputId": "17555999-328c-4759-84d2-28c9a2d4f4c2",
        "colab": {
          "base_uri": "https://localhost:8080/",
          "height": 34
        }
      },
      "source": [
        "# subtract\n",
        "2 - 5"
      ],
      "execution_count": null,
      "outputs": [
        {
          "output_type": "execute_result",
          "data": {
            "text/plain": [
              "-3"
            ]
          },
          "metadata": {
            "tags": []
          },
          "execution_count": 9
        }
      ]
    },
    {
      "cell_type": "code",
      "metadata": {
        "id": "yB3IWyHYPUJ2",
        "outputId": "59b9f841-45b3-4087-d38c-7f25df8e4595",
        "colab": {
          "base_uri": "https://localhost:8080/",
          "height": 34
        }
      },
      "source": [
        "* multiply\n",
        "5 * 3"
      ],
      "execution_count": null,
      "outputs": [
        {
          "output_type": "execute_result",
          "data": {
            "text/plain": [
              "15"
            ]
          },
          "metadata": {
            "tags": []
          },
          "execution_count": 10
        }
      ]
    },
    {
      "cell_type": "code",
      "metadata": {
        "id": "4plPA8XgPcE3",
        "outputId": "c4eb1430-c4bf-4f69-b86e-21dcf7b2c687",
        "colab": {
          "base_uri": "https://localhost:8080/",
          "height": 34
        }
      },
      "source": [
        "# divide (true division)\n",
        "7 / 3"
      ],
      "execution_count": null,
      "outputs": [
        {
          "output_type": "execute_result",
          "data": {
            "text/plain": [
              "2.3333333333333335"
            ]
          },
          "metadata": {
            "tags": []
          },
          "execution_count": 11
        }
      ]
    },
    {
      "cell_type": "code",
      "metadata": {
        "id": "aDk4znAgPhAB",
        "outputId": "a802d1d7-9e6b-4f3e-f94c-4fba817d67b3",
        "colab": {
          "base_uri": "https://localhost:8080/",
          "height": 34
        }
      },
      "source": [
        "# integer divide (quotient)\n",
        "7 // 3"
      ],
      "execution_count": null,
      "outputs": [
        {
          "output_type": "execute_result",
          "data": {
            "text/plain": [
              "2"
            ]
          },
          "metadata": {
            "tags": []
          },
          "execution_count": 12
        }
      ]
    },
    {
      "cell_type": "code",
      "metadata": {
        "id": "HPv_93u8Pryg",
        "outputId": "fba6843d-f8e6-49d5-9d64-7d82eaa799e3",
        "colab": {
          "base_uri": "https://localhost:8080/",
          "height": 34
        }
      },
      "source": [
        "# exponent (power to)\n",
        "2 ** 3"
      ],
      "execution_count": null,
      "outputs": [
        {
          "output_type": "execute_result",
          "data": {
            "text/plain": [
              "8"
            ]
          },
          "metadata": {
            "tags": []
          },
          "execution_count": 13
        }
      ]
    },
    {
      "cell_type": "code",
      "metadata": {
        "id": "hw9J1WnrPvm5",
        "outputId": "a4319d7f-1afa-460e-b46a-ace1280c7c7b",
        "colab": {
          "base_uri": "https://localhost:8080/",
          "height": 34
        }
      },
      "source": [
        "# modulo (gives remainder of division)\n",
        "8 % 3"
      ],
      "execution_count": null,
      "outputs": [
        {
          "output_type": "execute_result",
          "data": {
            "text/plain": [
              "2"
            ]
          },
          "metadata": {
            "tags": []
          },
          "execution_count": 15
        }
      ]
    },
    {
      "cell_type": "markdown",
      "metadata": {
        "id": "Wv5d6g7b3P93"
      },
      "source": [
        "# The importance of meaningful identifier names:\n",
        "* shows clearly the purpose of variables / functions / classes\n",
        "* aids readability to developer\n",
        "* eases maintenance effort of developer"
      ]
    },
    {
      "cell_type": "code",
      "metadata": {
        "id": "6yaplVMe6hXo",
        "outputId": "a6dbede7-c37e-43b9-d781-6356aa608934",
        "colab": {
          "base_uri": "https://localhost:8080/",
          "height": 34
        }
      },
      "source": [
        "# Variables\n",
        "x = 123\n",
        "x\n",
        "y = 5.67\n",
        "y\n",
        "is_raining = False\n",
        "is_raining"
      ],
      "execution_count": null,
      "outputs": [
        {
          "output_type": "execute_result",
          "data": {
            "text/plain": [
              "False"
            ]
          },
          "metadata": {
            "tags": []
          },
          "execution_count": 18
        }
      ]
    },
    {
      "cell_type": "code",
      "metadata": {
        "id": "Zo3VMQD86odS",
        "outputId": "33bf0d8c-2735-4380-8e59-a17aeaeedb54",
        "colab": {
          "base_uri": "https://localhost:8080/",
          "height": 51
        }
      },
      "source": [
        "# Input\n",
        "msg = input(\"Enter message: \")\n",
        "msg\n"
      ],
      "execution_count": null,
      "outputs": [
        {
          "output_type": "stream",
          "text": [
            "Enter message: yo how are you?\n"
          ],
          "name": "stdout"
        },
        {
          "output_type": "execute_result",
          "data": {
            "text/plain": [
              "'yo how are you?'"
            ]
          },
          "metadata": {
            "tags": []
          },
          "execution_count": 19
        }
      ]
    },
    {
      "cell_type": "markdown",
      "metadata": {
        "id": "VMH7BytY4XBW"
      },
      "source": [
        "### Comparison operators"
      ]
    },
    {
      "cell_type": "code",
      "metadata": {
        "id": "Zvcmz4B86twc",
        "outputId": "d732f154-c201-43fa-d0b0-74c8019629b8",
        "colab": {
          "base_uri": "https://localhost:8080/",
          "height": 34
        }
      },
      "source": [
        "# Comparison operators\n",
        "2 > 1\n",
        "2 >= 3\n",
        "2 < 5\n",
        "5 <= 5\n",
        "5 == 5\n",
        "5 != 5"
      ],
      "execution_count": null,
      "outputs": [
        {
          "output_type": "execute_result",
          "data": {
            "text/plain": [
              "False"
            ]
          },
          "metadata": {
            "tags": []
          },
          "execution_count": 27
        }
      ]
    },
    {
      "cell_type": "code",
      "metadata": {
        "id": "e556FSiS_hiR",
        "outputId": "dfa7326c-46c3-4442-8a65-fa28986f6b5a",
        "colab": {
          "base_uri": "https://localhost:8080/"
        }
      },
      "source": [
        "#strings can be compared too\n",
        "#Python compares string lexicographically i.e using ASCII value of the characters.\n",
        "print(\"A\"<\"a\")\n",
        "print(\"1\" > \"2\")\n",
        "print(\"Hello world\" < \"Github\")"
      ],
      "execution_count": null,
      "outputs": [
        {
          "output_type": "stream",
          "text": [
            "True\n"
          ],
          "name": "stdout"
        }
      ]
    },
    {
      "cell_type": "markdown",
      "metadata": {
        "id": "gpSzptTm4cup"
      },
      "source": [
        "## Logical operators\n",
        "\n",
        "*   and\n",
        "*   or\n",
        "*   not\n",
        "\n",
        "\n",
        "\n"
      ]
    },
    {
      "cell_type": "code",
      "metadata": {
        "id": "ie04X42M62br",
        "outputId": "9e1f2f14-e2c1-4645-cd4e-9bee3716c127",
        "colab": {
          "base_uri": "https://localhost:8080/",
          "height": 34
        }
      },
      "source": [
        "# Conditionals\n",
        "a = 2\n",
        "b = 3\n",
        "if a > b:\n",
        "  print(\"a greater\")\n",
        "elif a < b:\n",
        "  print(\"a less than\")\n",
        "else: \n",
        "  print(\"equal\")\n",
        "\n"
      ],
      "execution_count": null,
      "outputs": [
        {
          "output_type": "stream",
          "text": [
            "a less than\n"
          ],
          "name": "stdout"
        }
      ]
    },
    {
      "cell_type": "code",
      "metadata": {
        "id": "GuDhz2L265_K",
        "outputId": "b326698d-eff3-4088-9a4a-48ad1458cbe7",
        "colab": {
          "base_uri": "https://localhost:8080/",
          "height": 34
        }
      },
      "source": [
        "# Loops\n",
        "for i in range(5):\n",
        "  print(i, end=' ') # loop body\n"
      ],
      "execution_count": null,
      "outputs": [
        {
          "output_type": "stream",
          "text": [
            "0 1 2 3 4 "
          ],
          "name": "stdout"
        }
      ]
    },
    {
      "cell_type": "code",
      "metadata": {
        "id": "b-6J3BCsSe0T"
      },
      "source": [
        ""
      ],
      "execution_count": null,
      "outputs": []
    }
  ]
}