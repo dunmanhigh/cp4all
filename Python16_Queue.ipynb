{
  "nbformat": 4,
  "nbformat_minor": 0,
  "metadata": {
    "colab": {
      "name": "Python16 - Queue.ipynb",
      "provenance": [],
      "collapsed_sections": [],
      "include_colab_link": true
    },
    "kernelspec": {
      "name": "python3",
      "display_name": "Python 3"
    }
  },
  "cells": [
    {
      "cell_type": "markdown",
      "metadata": {
        "id": "view-in-github",
        "colab_type": "text"
      },
      "source": [
        "<a href=\"https://colab.research.google.com/github/damnpan/cp4all/blob/queue/Python16_Queue.ipynb\" target=\"_parent\"><img src=\"https://colab.research.google.com/assets/colab-badge.svg\" alt=\"Open In Colab\"/></a>"
      ]
    },
    {
      "cell_type": "markdown",
      "metadata": {
        "id": "WYDSZcGSKwqH"
      },
      "source": [
        "# Queue\n",
        "- first in first out (FIFO) data structure\n",
        "- essential data: data, front, rear\n",
        "- front is the position where the next item will be removed (i.e. first item)\n",
        "- rear is the position where the next item will be inserted\n",
        "- can be implemented using array or linked list"
      ]
    },
    {
      "cell_type": "code",
      "metadata": {
        "id": "RgRsqtYFKrH0",
        "outputId": "2b97211a-fc35-4a96-b73c-688403a7ef4d",
        "colab": {
          "base_uri": "https://localhost:8080/",
          "height": 104
        }
      },
      "source": [
        "# Queue class\n",
        "class Queue:\n",
        "\n",
        "  def __init__(self):\n",
        "    self.data = []\n",
        "\n",
        "  def is_empty(self):\n",
        "    return len(self.data) == 0 # self.data == []\n",
        "\n",
        "  def enqueue(self, value): # insert\n",
        "    self.data.insert(0, value)\n",
        "\n",
        "  def dequeue(self): # delete\n",
        "    if self.is_empty():\n",
        "      return \"Cannot delete from empty queue\"\n",
        "    return self.data.pop()\n",
        "\n",
        "  def size(self):\n",
        "    return len(self.data)\n",
        "\n",
        "  def display(self):\n",
        "    if self.is_empty():\n",
        "      print(\"Empty queue\")\n",
        "    else:\n",
        "      print(\"Contents: \", end='')\n",
        "      #for i in range(len(self.data)): # printing from rear to front\n",
        "      for i in range(len(self.data)-1, -1, -1):\n",
        "        print(self.data[i], end=' ')\n",
        "      print()\n",
        "\n",
        "\n",
        "# main\n",
        "queue = Queue()\n",
        "queue.enqueue(35)\n",
        "queue.enqueue(88)\n",
        "queue.enqueue(19)\n",
        "queue.display()\n",
        "queue.dequeue()\n",
        "queue.display()\n",
        "queue.dequeue()\n",
        "queue.display()\n",
        "queue.dequeue()\n",
        "queue.display()\n",
        "queue.dequeue()"
      ],
      "execution_count": null,
      "outputs": [
        {
          "output_type": "stream",
          "text": [
            "Contents: 35 88 19 \n",
            "Contents: 88 19 \n",
            "Contents: 19 \n",
            "Empty queue\n"
          ],
          "name": "stdout"
        },
        {
          "output_type": "execute_result",
          "data": {
            "text/plain": [
              "'Cannot delete from empty queue'"
            ]
          },
          "metadata": {
            "tags": []
          },
          "execution_count": 6
        }
      ]
    },
    {
      "cell_type": "markdown",
      "metadata": {
        "id": "sYoTHod4g8B6"
      },
      "source": [
        "Implement a queue using front and rear\n",
        "```\n",
        "[1, 3, 5, 7]  \n",
        " 0  1  2  3\n",
        "```\n",
        "front = 0  \n",
        "rear = 3 --> 4\n"
      ]
    },
    {
      "cell_type": "code",
      "metadata": {
        "id": "PFOuWsbhg7Nq",
        "outputId": "94a1aa98-a39b-422f-dfc7-4887c0181c77",
        "colab": {
          "base_uri": "https://localhost:8080/",
          "height": 225
        }
      },
      "source": [
        "class Queue:\n",
        "\n",
        "  def __init__(self):\n",
        "    self.data = []\n",
        "    self.front = -1 # signify invalid index\n",
        "    self.rear = -1 # signify invalid index\n",
        "\n",
        "  def is_empty(self):\n",
        "    return self.front == self.rear # len(self.data) == 0 / self.data == []\n",
        "\n",
        "  def enqueue(self, value): # insert\n",
        "    self.data.append(value)\n",
        "    if self.is_empty():\n",
        "      self.front = 0\n",
        "      self.rear = 1\n",
        "    else: # non-empty queue\n",
        "      self.rear += 1\n",
        "    print(value, \"inserted\")\n",
        "\n",
        "  def dequeue(self): # delete\n",
        "    if self.is_empty():\n",
        "      print(\"Cannot delete from empty queue\")\n",
        "      return -1 # signify error status\n",
        "    else:\n",
        "      value = self.data[self.front]\n",
        "      del self.data[self.front]\n",
        "      print(value, \"deleted\")\n",
        "      #self.front = 0\n",
        "      self.rear = len(self.data)\n",
        "      if self.is_empty(): # reset empty state\n",
        "        self.front = -1\n",
        "        self.rear = -1\n",
        "      return value\n",
        "\n",
        "  def size(self):\n",
        "    return len(self.data)\n",
        "\n",
        "  def display(self):\n",
        "    if self.is_empty():\n",
        "      print(\"Empty queue\")\n",
        "    else:\n",
        "      print(\"Contents: \", end='')\n",
        "      for i in range(self.front, self.rear):\n",
        "        print(self.data[i], end=' ')\n",
        "      print()\n",
        "\n",
        "   \n",
        "# main\n",
        "queue = Queue()\n",
        "queue.enqueue(35)\n",
        "queue.enqueue(88)\n",
        "queue.enqueue(19)\n",
        "queue.display()\n",
        "queue.dequeue()\n",
        "queue.display()\n",
        "queue.dequeue()\n",
        "queue.display()\n",
        "queue.dequeue()\n",
        "queue.display()\n",
        "queue.dequeue()"
      ],
      "execution_count": null,
      "outputs": [
        {
          "output_type": "stream",
          "text": [
            "35 inserted\n",
            "88 inserted\n",
            "19 inserted\n",
            "Contents: 35 88 19 \n",
            "35 deleted\n",
            "Contents: 88 19 \n",
            "88 deleted\n",
            "Contents: 19 \n",
            "19 deleted\n",
            "Empty queue\n",
            "Cannot delete from empty queue\n"
          ],
          "name": "stdout"
        },
        {
          "output_type": "execute_result",
          "data": {
            "text/plain": [
              "-1"
            ]
          },
          "metadata": {
            "tags": []
          },
          "execution_count": 3
        }
      ]
    },
    {
      "cell_type": "markdown",
      "metadata": {
        "id": "xZnIB3u5jMmL"
      },
      "source": [
        "Implement a fixed size queue.  \n",
        "Hint: implement is_full()"
      ]
    },
    {
      "cell_type": "code",
      "metadata": {
        "id": "ZeBmJh0ykq9h",
        "outputId": "f30ffb24-e84c-46a5-d8de-5510f02b1bc9",
        "colab": {
          "base_uri": "https://localhost:8080/",
          "height": 157
        }
      },
      "source": [
        "# Queue class\n",
        "class Queue:\n",
        "\n",
        "  MAX = 2\n",
        "\n",
        "  def __init__(self):\n",
        "    self.data = []\n",
        "\n",
        "  def is_empty(self):\n",
        "    return len(self.data) == 0 # self.data == []\n",
        "\n",
        "  def is_full(self):\n",
        "    return len(self.data) == self.MAX\n",
        "\n",
        "  def enqueue(self, value): # insert\n",
        "    if self.is_full():\n",
        "      print(\"Invalid, queue is full\")\n",
        "    else:\n",
        "      self.data.insert(0, value)\n",
        "      print(\"Added \" + str(value) + \" to queue\")\n",
        "\n",
        "  def dequeue(self): # delete\n",
        "    if self.is_empty():\n",
        "      return \"Cannot delete from empty queue\"\n",
        "    return self.data.pop()\n",
        "\n",
        "  def size(self):\n",
        "    return len(self.data)\n",
        "\n",
        "  def display(self):\n",
        "    if self.is_empty():\n",
        "      print(\"Empty queue\")\n",
        "    else:\n",
        "      print(\"Contents: \", end='')\n",
        "      #for i in range(len(self.data)): # printing from rear to front\n",
        "      for i in range(len(self.data)-1, -1, -1):\n",
        "        print(self.data[i], end=' ')\n",
        "      print()\n",
        " \n",
        "# main\n",
        "queue = Queue()\n",
        "queue.enqueue(35)\n",
        "queue.enqueue(88)\n",
        "#queue.is_full()\n",
        "queue.enqueue(19)\n",
        "queue.display()\n",
        "queue.dequeue()\n",
        "queue.display()\n",
        "queue.dequeue()\n",
        "queue.display()\n",
        "queue.dequeue()\n",
        "queue.display()\n",
        "queue.dequeue()\n"
      ],
      "execution_count": null,
      "outputs": [
        {
          "output_type": "stream",
          "text": [
            "Added 35 to queue\n",
            "Added 88 to queue\n",
            "Invalid, queue is full\n",
            "Contents: 35 88 \n",
            "Contents: 88 \n",
            "Empty queue\n",
            "Empty queue\n"
          ],
          "name": "stdout"
        },
        {
          "output_type": "execute_result",
          "data": {
            "application/vnd.google.colaboratory.intrinsic+json": {
              "type": "string"
            },
            "text/plain": [
              "'Cannot delete from empty queue'"
            ]
          },
          "metadata": {
            "tags": []
          },
          "execution_count": 14
        }
      ]
    }
  ]
}