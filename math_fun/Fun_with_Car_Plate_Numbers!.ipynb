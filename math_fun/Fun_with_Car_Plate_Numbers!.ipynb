{
  "nbformat": 4,
  "nbformat_minor": 0,
  "metadata": {
    "colab": {
      "name": "Fun with Car Plate Numbers!",
      "provenance": [],
      "collapsed_sections": []
    },
    "kernelspec": {
      "name": "python3",
      "display_name": "Python 3"
    }
  },
  "cells": [
    {
      "cell_type": "markdown",
      "metadata": {
        "id": "W-ulZcJsgTWu"
      },
      "source": [
        "Good morning! You have completed the math trail on car plate numbers in a somewhat (semi-)automated way.\n",
        "\n",
        "Can you actually solve the same tasks with code? Read on and you will be amazed how empowering programming can be to help make mathematics learning more efficient and productive! :)"
      ]
    },
    {
      "cell_type": "markdown",
      "metadata": {
        "id": "kjguS3RyLOkq"
      },
      "source": [
        "# Task\n",
        "\n",
        "Given the incomplete car plate number `SLA9??2H`\n",
        "\n",
        "Find the missing ?? numbers.\n",
        "\n"
      ]
    },
    {
      "cell_type": "markdown",
      "metadata": {
        "id": "INkuV8X1LmXF"
      },
      "source": [
        "A valid Singapore car plate number typically starts with 3 letters, followed by 4 digits and ending with a 'check' letter. \n",
        "\n",
        "For example, for the valid car plate number is 'SDG6136T',\n",
        "\n",
        "-  The first letter is 'S' for Singapore. \n",
        "- The next two letters and the digits are used to compute the check letter, using the following steps:\n",
        "  - Ignoring the first letter 'S', the letters are converted to their positions in the alphabet. For example, 'D' is 4, 'G' is 7 and 'M' is 13. \n",
        "  - The converted letters and the digits form a sequence of 6 numbers. For example, 'DG6136' will give (4, 7, 6, 1, 3, 6).\n",
        "  - The sequence of 6 numbers is multiplied term by term by the sequence of 6 weights (9, 4, 5, 4, 3, 2) respectively, summed up and then divided by 19 to obtain the remainder. \n",
        "  - For example, '476136' will give 4x9 + 7x4 + 6x5 + 1x4 + 3x3 + 6x2 = 119, and this leaves a remainder of 5 after dividing by 19.\n",
        "  - The 'check' letter is obtained by referring to the following table. Thus the check letter corresponding to remainder 5 is T.\n",
        "``` \n",
        "| Remainder | 'check' letter | Remainder | 'check' letter | Remainder | 'check' letter |\n",
        "| 0         | A              |  7        | R              | 13        | H              |\n",
        "| 1         | Z              |  8        | P              | 14        | G              |\n",
        "| 2         | Y              |  9        | M              | 15        | E              |\n",
        "| 3         | X              | 10        | L              | 16        | D              |\n",
        "| 4         | U              | 11        | K              | 17        | C              |\n",
        "| 5         | T              | 12        | J              | 18        | B              |\n",
        "| 6         | S              |           |                |           |                |\n",
        "```\n",
        "Reference: https://sgwiki.com/wiki/Vehicle_Checksum_Formula"
      ]
    },
    {
      "cell_type": "markdown",
      "metadata": {
        "id": "lSK9BMJ6SPo6"
      },
      "source": [
        "Pseudocode\n",
        "```\n",
        "FOR i = 0 to 99\n",
        "  Car_Plate = 'SJT9' + str(i) + '2H'\n",
        "    IF Check_Letter(Car_Plate) is True\n",
        "      print (Car_Plate) on screen\n",
        "    ENDIF\n",
        "  NEXT\n",
        "```\n"
      ]
    },
    {
      "cell_type": "code",
      "metadata": {
        "id": "eze2i3t8LGgt",
        "outputId": "b062aada-ffb9-4911-d6bb-512098133458",
        "colab": {
          "base_uri": "https://localhost:8080/",
          "height": 134
        }
      },
      "source": [
        "# we need to store the mapping from A to 1, B to 2, etc. \n",
        "# for the letters part of the car plate number\n",
        "# a dictionary is good for this purpose\n",
        "letter_map = {}\n",
        "for i in range(27): # 26 alphabets\n",
        "  char = chr(ord('A') + i)\n",
        "  letter_map[char] = i + 1\n",
        "#print(letter_map) # this will output {'A':1, 'B':2, 'C':3, ..., 'Z':26}\n",
        "\n",
        "# we also need to store the mapping from remainders to the check letter\n",
        "# and we can also use a dictionary! :)\n",
        "check_map = {0:'A', 1:'Z', 2:'Y', 3:'X', 4:'U', 5:'T', 6:'S', 7:'R', 8:'P',\t\\\n",
        "             9:'M', 10:'L', 11:'K',\t12:'J', 13:'H', 14:'G', 15:'E',\t16:'D',\t\\\n",
        "             17:'C', 18:'B'}\n",
        "\n",
        "# we define a reusable Boolean function to generate the check letter and\n",
        "# check if it matches the last letter of the car plate number\n",
        "def check_letter(car_plate):\n",
        "  weights = [9, 4, 5, 4, 3, 2]\n",
        "  total = 0\n",
        "  for i in range(len(car_plate)-1):\n",
        "    if i < 2: # letters\n",
        "      num = letter_map[car_plate[i]]\n",
        "    else: # digits\n",
        "      num = int(car_plate[i])\n",
        "    total += num * weights[i]\n",
        "  remainder = total % 19\n",
        "  return check_map[remainder] == car_plate[-1]\n",
        "\n",
        "#main\n",
        "car_plate = 'DG6136T' # you can use this to verify the given example\n",
        "if check_letter(car_plate):\n",
        "  print('S' + car_plate, car_plate[3:5])\n",
        "print()\n",
        "for i in range(100): # this loop repeats 100 times for you! :)\n",
        "  car_plate = 'LA9' + str(i).zfill(2) + '2H' # 'LA9002H', 'LA9012H', ...\n",
        "  if check_letter(car_plate):\n",
        "    print('S' + car_plate, car_plate[3:5])"
      ],
      "execution_count": 3,
      "outputs": [
        {
          "output_type": "stream",
          "text": [
            "SDG6136T 13\n",
            "\n",
            "SLA9102H 10\n",
            "SLA9252H 25\n",
            "SLA9512H 51\n",
            "SLA9662H 66\n",
            "SLA9922H 92\n"
          ],
          "name": "stdout"
        }
      ]
    },
    {
      "cell_type": "code",
      "metadata": {
        "id": "yVrh0gu9uDOI"
      },
      "source": [
        "#main\n",
        "for i in range(100):\n",
        "  car_plate = 'LA' + str(i).zfill(2) + '68Y'\n",
        "  if check_letter(car_plate):\n",
        "    print('S' + car_plate, car_plate[2:4])"
      ],
      "execution_count": null,
      "outputs": []
    },
    {
      "cell_type": "code",
      "metadata": {
        "id": "AxaRLbDVnWVq",
        "outputId": "96aab7bb-a128-4561-9dd9-d9bac69bf632",
        "colab": {
          "base_uri": "https://localhost:8080/",
          "height": 35
        }
      },
      "source": [
        "'0'.zfill(2)"
      ],
      "execution_count": null,
      "outputs": [
        {
          "output_type": "execute_result",
          "data": {
            "application/vnd.google.colaboratory.intrinsic+json": {
              "type": "string"
            },
            "text/plain": [
              "'00'"
            ]
          },
          "metadata": {
            "tags": []
          },
          "execution_count": 3
        }
      ]
    },
    {
      "cell_type": "markdown",
      "metadata": {
        "id": "orltBl_mumWU"
      },
      "source": [
        "# Challenge\n",
        "- How many car_plate numbers start with SMV and end with D?"
      ]
    },
    {
      "cell_type": "code",
      "metadata": {
        "id": "l6ouWnXTwDZQ",
        "outputId": "0664bf55-61d0-4960-a860-b52de701f2fc",
        "colab": {
          "base_uri": "https://localhost:8080/",
          "height": 34
        }
      },
      "source": [
        "#main\n",
        "count = 0\n",
        "for i in range(10000):\n",
        "  car_plate = 'MV' + str(i).zfill(4) + 'D'\n",
        "  if check_letter(car_plate):\n",
        "    count += 1\n",
        "print(count)"
      ],
      "execution_count": null,
      "outputs": [
        {
          "output_type": "stream",
          "text": [
            "525\n"
          ],
          "name": "stdout"
        }
      ]
    },
    {
      "cell_type": "code",
      "metadata": {
        "id": "NN1xX1_ynYrw",
        "outputId": "4c6ae01e-f5d0-467c-810d-516ee3ee6002",
        "colab": {
          "base_uri": "https://localhost:8080/",
          "height": 54
        }
      },
      "source": [
        "#main\n",
        "wanted = []\n",
        "for i in range(10000):\n",
        "  car_plate = 'MV' + str(i).zfill(4) + 'D'\n",
        "  if check_letter(car_plate):\n",
        "    print('S' + car_plate, end=' ')\n",
        "    wanted.append('S' + car_plate)\n",
        "print(len(wanted))"
      ],
      "execution_count": 5,
      "outputs": [
        {
          "output_type": "stream",
          "text": [
            "SMV0027D SMV0044D SMV0061D SMV0079D SMV0096D SMV0108D SMV0125D SMV0142D SMV0177D SMV0194D SMV0206D SMV0223D SMV0240D SMV0258D SMV0275D SMV0292D SMV0304D SMV0321D SMV0339D SMV0356D SMV0373D SMV0390D SMV0402D SMV0437D SMV0454D SMV0471D SMV0489D SMV0500D SMV0518D SMV0535D SMV0552D SMV0587D SMV0616D SMV0633D SMV0650D SMV0668D SMV0685D SMV0714D SMV0731D SMV0749D SMV0766D SMV0783D SMV0812D SMV0847D SMV0864D SMV0881D SMV0899D SMV0910D SMV0928D SMV0945D SMV0962D SMV0997D SMV1016D SMV1033D SMV1050D SMV1068D SMV1085D SMV1114D SMV1131D SMV1149D SMV1166D SMV1183D SMV1212D SMV1247D SMV1264D SMV1281D SMV1299D SMV1310D SMV1328D SMV1345D SMV1362D SMV1397D SMV1409D SMV1426D SMV1443D SMV1460D SMV1478D SMV1495D SMV1507D SMV1524D SMV1541D SMV1559D SMV1576D SMV1593D SMV1605D SMV1622D SMV1657D SMV1674D SMV1691D SMV1703D SMV1720D SMV1738D SMV1755D SMV1772D SMV1801D SMV1819D SMV1836D SMV1853D SMV1870D SMV1888D SMV1917D SMV1934D SMV1951D SMV1969D SMV1986D SMV2005D SMV2022D SMV2057D SMV2074D SMV2091D SMV2103D SMV2120D SMV2138D SMV2155D SMV2172D SMV2201D SMV2219D SMV2236D SMV2253D SMV2270D SMV2288D SMV2317D SMV2334D SMV2351D SMV2369D SMV2386D SMV2415D SMV2432D SMV2467D SMV2484D SMV2513D SMV2530D SMV2548D SMV2565D SMV2582D SMV2611D SMV2629D SMV2646D SMV2663D SMV2680D SMV2698D SMV2727D SMV2744D SMV2761D SMV2779D SMV2796D SMV2808D SMV2825D SMV2842D SMV2877D SMV2894D SMV2906D SMV2923D SMV2940D SMV2958D SMV2975D SMV2992D SMV3011D SMV3029D SMV3046D SMV3063D SMV3080D SMV3098D SMV3127D SMV3144D SMV3161D SMV3179D SMV3196D SMV3208D SMV3225D SMV3242D SMV3277D SMV3294D SMV3306D SMV3323D SMV3340D SMV3358D SMV3375D SMV3392D SMV3404D SMV3421D SMV3439D SMV3456D SMV3473D SMV3490D SMV3502D SMV3537D SMV3554D SMV3571D SMV3589D SMV3600D SMV3618D SMV3635D SMV3652D SMV3687D SMV3716D SMV3733D SMV3750D SMV3768D SMV3785D SMV3814D SMV3831D SMV3849D SMV3866D SMV3883D SMV3912D SMV3947D SMV3964D SMV3981D SMV3999D SMV4000D SMV4018D SMV4035D SMV4052D SMV4087D SMV4116D SMV4133D SMV4150D SMV4168D SMV4185D SMV4214D SMV4231D SMV4249D SMV4266D SMV4283D SMV4312D SMV4347D SMV4364D SMV4381D SMV4399D SMV4410D SMV4428D SMV4445D SMV4462D SMV4497D SMV4509D SMV4526D SMV4543D SMV4560D SMV4578D SMV4595D SMV4607D SMV4624D SMV4641D SMV4659D SMV4676D SMV4693D SMV4705D SMV4722D SMV4757D SMV4774D SMV4791D SMV4803D SMV4820D SMV4838D SMV4855D SMV4872D SMV4901D SMV4919D SMV4936D SMV4953D SMV4970D SMV4988D SMV5007D SMV5024D SMV5041D SMV5059D SMV5076D SMV5093D SMV5105D SMV5122D SMV5157D SMV5174D SMV5191D SMV5203D SMV5220D SMV5238D SMV5255D SMV5272D SMV5301D SMV5319D SMV5336D SMV5353D SMV5370D SMV5388D SMV5417D SMV5434D SMV5451D SMV5469D SMV5486D SMV5515D SMV5532D SMV5567D SMV5584D SMV5613D SMV5630D SMV5648D SMV5665D SMV5682D SMV5711D SMV5729D SMV5746D SMV5763D SMV5780D SMV5798D SMV5827D SMV5844D SMV5861D SMV5879D SMV5896D SMV5908D SMV5925D SMV5942D SMV5977D SMV5994D SMV6013D SMV6030D SMV6048D SMV6065D SMV6082D SMV6111D SMV6129D SMV6146D SMV6163D SMV6180D SMV6198D SMV6227D SMV6244D SMV6261D SMV6279D SMV6296D SMV6308D SMV6325D SMV6342D SMV6377D SMV6394D SMV6406D SMV6423D SMV6440D SMV6458D SMV6475D SMV6492D SMV6504D SMV6521D SMV6539D SMV6556D SMV6573D SMV6590D SMV6602D SMV6637D SMV6654D SMV6671D SMV6689D SMV6700D SMV6718D SMV6735D SMV6752D SMV6787D SMV6816D SMV6833D SMV6850D SMV6868D SMV6885D SMV6914D SMV6931D SMV6949D SMV6966D SMV6983D SMV7002D SMV7037D SMV7054D SMV7071D SMV7089D SMV7100D SMV7118D SMV7135D SMV7152D SMV7187D SMV7216D SMV7233D SMV7250D SMV7268D SMV7285D SMV7314D SMV7331D SMV7349D SMV7366D SMV7383D SMV7412D SMV7447D SMV7464D SMV7481D SMV7499D SMV7510D SMV7528D SMV7545D SMV7562D SMV7597D SMV7609D SMV7626D SMV7643D SMV7660D SMV7678D SMV7695D SMV7707D SMV7724D SMV7741D SMV7759D SMV7776D SMV7793D SMV7805D SMV7822D SMV7857D SMV7874D SMV7891D SMV7903D SMV7920D SMV7938D SMV7955D SMV7972D SMV8009D SMV8026D SMV8043D SMV8060D SMV8078D SMV8095D SMV8107D SMV8124D SMV8141D SMV8159D SMV8176D SMV8193D SMV8205D SMV8222D SMV8257D SMV8274D SMV8291D SMV8303D SMV8320D SMV8338D SMV8355D SMV8372D SMV8401D SMV8419D SMV8436D SMV8453D SMV8470D SMV8488D SMV8517D SMV8534D SMV8551D SMV8569D SMV8586D SMV8615D SMV8632D SMV8667D SMV8684D SMV8713D SMV8730D SMV8748D SMV8765D SMV8782D SMV8811D SMV8829D SMV8846D SMV8863D SMV8880D SMV8898D SMV8927D SMV8944D SMV8961D SMV8979D SMV8996D SMV9015D SMV9032D SMV9067D SMV9084D SMV9113D SMV9130D SMV9148D SMV9165D SMV9182D SMV9211D SMV9229D SMV9246D SMV9263D SMV9280D SMV9298D SMV9327D SMV9344D SMV9361D SMV9379D SMV9396D SMV9408D SMV9425D SMV9442D SMV9477D SMV9494D SMV9506D SMV9523D SMV9540D SMV9558D SMV9575D SMV9592D SMV9604D SMV9621D SMV9639D SMV9656D SMV9673D SMV9690D SMV9702D SMV9737D SMV9754D SMV9771D SMV9789D SMV9800D SMV9818D SMV9835D SMV9852D SMV9887D SMV9916D SMV9933D SMV9950D SMV9968D SMV9985D 525\n"
          ],
          "name": "stdout"
        }
      ]
    },
    {
      "cell_type": "markdown",
      "metadata": {
        "id": "-9ym2H5i1cUn"
      },
      "source": [
        "# More challenges!\n",
        "\n",
        "Suggest one or more variations of problems you can solve with car plate numbers using the power of Python programming. Some ideas include:\n",
        "* Check if a given car plate number is valid\n",
        "* Which valid car plate numbers have a special property (eg prime number, contains at least two '8' digits, does not contain the lucky number 13, etc.)\n",
        "* If there are the same number of available car plate numbers each series (eg SMV and SMW)\n",
        "* (your idea here)\n",
        "\n",
        "Submit a pull request with your ideas and/or code to contribute to learning Mathematics using programming to benefit the world! :)"
      ]
    },
    {
      "cell_type": "code",
      "metadata": {
        "id": "VuHi6OlY55NH"
      },
      "source": [
        ""
      ],
      "execution_count": null,
      "outputs": []
    },
    {
      "cell_type": "markdown",
      "metadata": {
        "id": "AkT71nsH61i9"
      },
      "source": [
        "# This is really more than car plate numbers!\n",
        "\n",
        "You have just learned an application of mathematics called modulus arithmetic in generating check letters/digits. Do you know that actually the following are also applications of modulus arithmetic?\n",
        "* Singapore NRIC numbers (http://www.ngiam.net/NRIC/NRIC_numbers.ppt)\n",
        "* international ISBNs (https://en.wikipedia.org/wiki/International_Standard_Book_Number)\n",
        "* credit card numbers (https://en.wikipedia.org/wiki/Luhn_algorithm)\n",
        "* universal product codes (https://en.wikipedia.org/wiki/Universal_Product_Code)\n",
        "* Cryptograhy(https://en.wikipedia.org/wiki/Caesar_cipher)\n",
        "\n",
        "Can you research on other applications modulus arithmetic has? Better still, contribute by submitting Python code to unleash the power of automation!\n",
        "\n",
        "You can submit a pull request by doing one of the following:\n",
        "- suggesting a new application for modulus arithmetic\n",
        "- creating a new .py file\n",
        "- uploading an existing .py file\n",
        "\n",
        "We look forward to your pull requests! :)"
      ]
    }
  ]
}
